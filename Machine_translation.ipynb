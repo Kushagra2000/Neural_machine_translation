{
  "nbformat": 4,
  "nbformat_minor": 0,
  "metadata": {
    "colab": {
      "name": "Machine_translation.ipynb",
      "provenance": [],
      "collapsed_sections": [],
      "mount_file_id": "1-4K2HI3_RBvxi7ln2M30dSS8qpHvCFTH",
      "authorship_tag": "ABX9TyOZCBGr8oiXAk8nd7PtYwIi",
      "include_colab_link": true
    },
    "kernelspec": {
      "name": "python3",
      "display_name": "Python 3"
    },
    "accelerator": "GPU"
  },
  "cells": [
    {
      "cell_type": "markdown",
      "metadata": {
        "id": "view-in-github",
        "colab_type": "text"
      },
      "source": [
        "<a href=\"https://colab.research.google.com/github/Kushagra2000/Neural_machine_translation/blob/main/Machine_translation.ipynb\" target=\"_parent\"><img src=\"https://colab.research.google.com/assets/colab-badge.svg\" alt=\"Open In Colab\"/></a>"
      ]
    },
    {
      "cell_type": "code",
      "metadata": {
        "colab": {
          "base_uri": "https://localhost:8080/",
          "height": 53
        },
        "id": "a_wTnIFR8vNu",
        "outputId": "07175540-4c50-4575-e7b5-6ce57f5e2396"
      },
      "source": [
        "#imports\n",
        "%tensorflow_version 1.x\n",
        "import tensorflow as tf\n",
        "print(tf.__version__)\n",
        "from tensorflow import keras\n",
        "import pandas as pd\n",
        "import numpy as np\n",
        "import re\n",
        "import unicodedata\n",
        "from sklearn.model_selection import train_test_split\n",
        "from tensorflow.keras.layers import LSTM, Dense, TimeDistributed, Activation,InputLayer,Embedding\n",
        "from tensorflow.keras.losses import sparse_categorical_crossentropy,categorical_crossentropy\n",
        "from tensorflow.keras.models import Model\n",
        "from tensorflow.keras.optimizers import Adam\n",
        "# !pip install -q -U keras-tuner\n",
        "# import kerastuner as kt \n",
        "import IPython\n",
        "from keras.utils import to_categorical\n",
        "\n",
        "tf.test.gpu_device_name()"
      ],
      "execution_count": 43,
      "outputs": [
        {
          "output_type": "stream",
          "text": [
            "1.15.2\n"
          ],
          "name": "stdout"
        },
        {
          "output_type": "execute_result",
          "data": {
            "application/vnd.google.colaboratory.intrinsic+json": {
              "type": "string"
            },
            "text/plain": [
              "'/device:GPU:0'"
            ]
          },
          "metadata": {
            "tags": []
          },
          "execution_count": 43
        }
      ]
    },
    {
      "cell_type": "code",
      "metadata": {
        "id": "Pjnci4B5Aywh"
      },
      "source": [
        "#reading lines from the txt file\n",
        "num_examples=20000\n",
        "with open('drive/MyDrive/deu.txt','r',encoding='utf-8') as f:\n",
        "  lines=(f.readlines())\n",
        "lines=lines[:num_examples]"
      ],
      "execution_count": 45,
      "outputs": []
    },
    {
      "cell_type": "code",
      "metadata": {
        "id": "_zDt6gkPfKhs"
      },
      "source": [
        "#Hyperparameters go here\n",
        "\n",
        "test_size=0.3\n",
        "m1_lr=0.001\n",
        "m2_lr=0.005\n",
        "m1_lstm_units=64\n",
        "m2_lstm_units=64\n",
        "m1_epochs=25\n",
        "m2_epochs=30\n",
        "m1_batch_size=128\n",
        "m2_batch_size=128\n",
        "m2_embedding_col=64"
      ],
      "execution_count": 46,
      "outputs": []
    },
    {
      "cell_type": "code",
      "metadata": {
        "id": "vWgVr4xOBK33"
      },
      "source": [
        "#reading the dataset\n",
        "df=pd.read_csv('drive/MyDrive/dataset.csv')"
      ],
      "execution_count": 47,
      "outputs": []
    },
    {
      "cell_type": "code",
      "metadata": {
        "colab": {
          "base_uri": "https://localhost:8080/",
          "height": 363
        },
        "id": "yuwwIEeipzZp",
        "outputId": "dfce6eb3-3a11-4ae3-f283-78197118f078"
      },
      "source": [
        "df.head(10)"
      ],
      "execution_count": 48,
      "outputs": [
        {
          "output_type": "execute_result",
          "data": {
            "text/html": [
              "<div>\n",
              "<style scoped>\n",
              "    .dataframe tbody tr th:only-of-type {\n",
              "        vertical-align: middle;\n",
              "    }\n",
              "\n",
              "    .dataframe tbody tr th {\n",
              "        vertical-align: top;\n",
              "    }\n",
              "\n",
              "    .dataframe thead th {\n",
              "        text-align: right;\n",
              "    }\n",
              "</style>\n",
              "<table border=\"1\" class=\"dataframe\">\n",
              "  <thead>\n",
              "    <tr style=\"text-align: right;\">\n",
              "      <th></th>\n",
              "      <th>Unnamed: 0</th>\n",
              "      <th>eng</th>\n",
              "      <th>ger</th>\n",
              "    </tr>\n",
              "  </thead>\n",
              "  <tbody>\n",
              "    <tr>\n",
              "      <th>0</th>\n",
              "      <td>0</td>\n",
              "      <td>&lt;SOS&gt; how arrogant ! &lt;EOS&gt;</td>\n",
              "      <td>&lt;SOS&gt; wie arrogant ! &lt;EOS&gt;</td>\n",
              "    </tr>\n",
              "    <tr>\n",
              "      <th>1</th>\n",
              "      <td>1</td>\n",
              "      <td>&lt;SOS&gt; please get tom . &lt;EOS&gt;</td>\n",
              "      <td>&lt;SOS&gt; bitte hol tom . &lt;EOS&gt;</td>\n",
              "    </tr>\n",
              "    <tr>\n",
              "      <th>2</th>\n",
              "      <td>2</td>\n",
              "      <td>&lt;SOS&gt; go look for it . &lt;EOS&gt;</td>\n",
              "      <td>&lt;SOS&gt; geh es suchen ! &lt;EOS&gt;</td>\n",
              "    </tr>\n",
              "    <tr>\n",
              "      <th>3</th>\n",
              "      <td>3</td>\n",
              "      <td>&lt;SOS&gt; she disappeared . &lt;EOS&gt;</td>\n",
              "      <td>&lt;SOS&gt; sie verschwand . &lt;EOS&gt;</td>\n",
              "    </tr>\n",
              "    <tr>\n",
              "      <th>4</th>\n",
              "      <td>4</td>\n",
              "      <td>&lt;SOS&gt; that book is old . &lt;EOS&gt;</td>\n",
              "      <td>&lt;SOS&gt; das buch ist alt . &lt;EOS&gt;</td>\n",
              "    </tr>\n",
              "    <tr>\n",
              "      <th>5</th>\n",
              "      <td>5</td>\n",
              "      <td>&lt;SOS&gt; hold on a moment . &lt;EOS&gt;</td>\n",
              "      <td>&lt;SOS&gt; augenblick mal ! &lt;EOS&gt;</td>\n",
              "    </tr>\n",
              "    <tr>\n",
              "      <th>6</th>\n",
              "      <td>6</td>\n",
              "      <td>&lt;SOS&gt; what is truth ? &lt;EOS&gt;</td>\n",
              "      <td>&lt;SOS&gt; was ist wahrheit ? &lt;EOS&gt;</td>\n",
              "    </tr>\n",
              "    <tr>\n",
              "      <th>7</th>\n",
              "      <td>7</td>\n",
              "      <td>&lt;SOS&gt; ive been better . &lt;EOS&gt;</td>\n",
              "      <td>&lt;SOS&gt; es ging mir schon besser . &lt;EOS&gt;</td>\n",
              "    </tr>\n",
              "    <tr>\n",
              "      <th>8</th>\n",
              "      <td>8</td>\n",
              "      <td>&lt;SOS&gt; why is he here ? &lt;EOS&gt;</td>\n",
              "      <td>&lt;SOS&gt; warum ist er hier ? &lt;EOS&gt;</td>\n",
              "    </tr>\n",
              "    <tr>\n",
              "      <th>9</th>\n",
              "      <td>9</td>\n",
              "      <td>&lt;SOS&gt; hes your friend . &lt;EOS&gt;</td>\n",
              "      <td>&lt;SOS&gt; er ist dein freund . &lt;EOS&gt;</td>\n",
              "    </tr>\n",
              "  </tbody>\n",
              "</table>\n",
              "</div>"
            ],
            "text/plain": [
              "   Unnamed: 0  ...                                     ger\n",
              "0           0  ...              <SOS> wie arrogant ! <EOS>\n",
              "1           1  ...             <SOS> bitte hol tom . <EOS>\n",
              "2           2  ...             <SOS> geh es suchen ! <EOS>\n",
              "3           3  ...            <SOS> sie verschwand . <EOS>\n",
              "4           4  ...          <SOS> das buch ist alt . <EOS>\n",
              "5           5  ...            <SOS> augenblick mal ! <EOS>\n",
              "6           6  ...          <SOS> was ist wahrheit ? <EOS>\n",
              "7           7  ...  <SOS> es ging mir schon besser . <EOS>\n",
              "8           8  ...         <SOS> warum ist er hier ? <EOS>\n",
              "9           9  ...        <SOS> er ist dein freund . <EOS>\n",
              "\n",
              "[10 rows x 3 columns]"
            ]
          },
          "metadata": {
            "tags": []
          },
          "execution_count": 48
        }
      ]
    },
    {
      "cell_type": "code",
      "metadata": {
        "colab": {
          "base_uri": "https://localhost:8080/",
          "height": 363
        },
        "id": "DNmFdtxhtnjz",
        "outputId": "ed4e51e0-fcb6-43a0-c0cc-98013d3591b3"
      },
      "source": [
        "df.tail(10)"
      ],
      "execution_count": 49,
      "outputs": [
        {
          "output_type": "execute_result",
          "data": {
            "text/html": [
              "<div>\n",
              "<style scoped>\n",
              "    .dataframe tbody tr th:only-of-type {\n",
              "        vertical-align: middle;\n",
              "    }\n",
              "\n",
              "    .dataframe tbody tr th {\n",
              "        vertical-align: top;\n",
              "    }\n",
              "\n",
              "    .dataframe thead th {\n",
              "        text-align: right;\n",
              "    }\n",
              "</style>\n",
              "<table border=\"1\" class=\"dataframe\">\n",
              "  <thead>\n",
              "    <tr style=\"text-align: right;\">\n",
              "      <th></th>\n",
              "      <th>Unnamed: 0</th>\n",
              "      <th>eng</th>\n",
              "      <th>ger</th>\n",
              "    </tr>\n",
              "  </thead>\n",
              "  <tbody>\n",
              "    <tr>\n",
              "      <th>14840</th>\n",
              "      <td>14840</td>\n",
              "      <td>&lt;SOS&gt; here is your bag . &lt;EOS&gt;</td>\n",
              "      <td>&lt;SOS&gt; deine tasche ist hier . &lt;EOS&gt;</td>\n",
              "    </tr>\n",
              "    <tr>\n",
              "      <th>14841</th>\n",
              "      <td>14841</td>\n",
              "      <td>&lt;SOS&gt; read it aloud . &lt;EOS&gt;</td>\n",
              "      <td>&lt;SOS&gt; lies es vor . &lt;EOS&gt;</td>\n",
              "    </tr>\n",
              "    <tr>\n",
              "      <th>14842</th>\n",
              "      <td>14842</td>\n",
              "      <td>&lt;SOS&gt; i thought hard . &lt;EOS&gt;</td>\n",
              "      <td>&lt;SOS&gt; ich dachte grundlich nach . &lt;EOS&gt;</td>\n",
              "    </tr>\n",
              "    <tr>\n",
              "      <th>14843</th>\n",
              "      <td>14843</td>\n",
              "      <td>&lt;SOS&gt; i must obey tom . &lt;EOS&gt;</td>\n",
              "      <td>&lt;SOS&gt; ich muss tom gehorchen . &lt;EOS&gt;</td>\n",
              "    </tr>\n",
              "    <tr>\n",
              "      <th>14844</th>\n",
              "      <td>14844</td>\n",
              "      <td>&lt;SOS&gt; we are students . &lt;EOS&gt;</td>\n",
              "      <td>&lt;SOS&gt; wir sind studenten . &lt;EOS&gt;</td>\n",
              "    </tr>\n",
              "    <tr>\n",
              "      <th>14845</th>\n",
              "      <td>14845</td>\n",
              "      <td>&lt;SOS&gt; dont leave ! &lt;EOS&gt;</td>\n",
              "      <td>&lt;SOS&gt; gehe nicht weg ! &lt;EOS&gt;</td>\n",
              "    </tr>\n",
              "    <tr>\n",
              "      <th>14846</th>\n",
              "      <td>14846</td>\n",
              "      <td>&lt;SOS&gt; he doesnt sleep . &lt;EOS&gt;</td>\n",
              "      <td>&lt;SOS&gt; er schlaft nicht . &lt;EOS&gt;</td>\n",
              "    </tr>\n",
              "    <tr>\n",
              "      <th>14847</th>\n",
              "      <td>14847</td>\n",
              "      <td>&lt;SOS&gt; is tom good ? &lt;EOS&gt;</td>\n",
              "      <td>&lt;SOS&gt; ist tom brav ? &lt;EOS&gt;</td>\n",
              "    </tr>\n",
              "    <tr>\n",
              "      <th>14848</th>\n",
              "      <td>14848</td>\n",
              "      <td>&lt;SOS&gt; didnt tom smile ? &lt;EOS&gt;</td>\n",
              "      <td>&lt;SOS&gt; tom lachelte nicht ? &lt;EOS&gt;</td>\n",
              "    </tr>\n",
              "    <tr>\n",
              "      <th>14849</th>\n",
              "      <td>14849</td>\n",
              "      <td>&lt;SOS&gt; tom felt sad . &lt;EOS&gt;</td>\n",
              "      <td>&lt;SOS&gt; tom fuhlte sich traurig . &lt;EOS&gt;</td>\n",
              "    </tr>\n",
              "  </tbody>\n",
              "</table>\n",
              "</div>"
            ],
            "text/plain": [
              "       Unnamed: 0  ...                                      ger\n",
              "14840       14840  ...      <SOS> deine tasche ist hier . <EOS>\n",
              "14841       14841  ...                <SOS> lies es vor . <EOS>\n",
              "14842       14842  ...  <SOS> ich dachte grundlich nach . <EOS>\n",
              "14843       14843  ...     <SOS> ich muss tom gehorchen . <EOS>\n",
              "14844       14844  ...         <SOS> wir sind studenten . <EOS>\n",
              "14845       14845  ...             <SOS> gehe nicht weg ! <EOS>\n",
              "14846       14846  ...           <SOS> er schlaft nicht . <EOS>\n",
              "14847       14847  ...               <SOS> ist tom brav ? <EOS>\n",
              "14848       14848  ...         <SOS> tom lachelte nicht ? <EOS>\n",
              "14849       14849  ...    <SOS> tom fuhlte sich traurig . <EOS>\n",
              "\n",
              "[10 rows x 3 columns]"
            ]
          },
          "metadata": {
            "tags": []
          },
          "execution_count": 49
        }
      ]
    },
    {
      "cell_type": "code",
      "metadata": {
        "id": "zctawZ8xGF_R"
      },
      "source": [
        "class Vocab_builder():\n",
        "  '''\n",
        "  Builds vocabulary and \n",
        "  word to index and index to word dictionaries\n",
        "  from dataset\n",
        "  '''\n",
        "  def __init__(self,lang,series):\n",
        "    self.lang=lang\n",
        "    self.data=series\n",
        "  def tokenize(self,line):\n",
        "    return line.split(' ')\n",
        "  def build_vocab(self):\n",
        "    self.uniq_words=set()\n",
        "    \n",
        "    self.maxlen=0\n",
        "    count=3\n",
        "    self.num_list=[]\n",
        "    for index,line in self.data.items():\n",
        "      self.word_list=self.tokenize(line)\n",
        "      self.maxlen=max(len(self.word_list),self.maxlen)\n",
        "      for word in self.word_list:\n",
        "        if(word not in self.uniq_words and word!='<EOS>' and word!='<SOS>'):\n",
        "          self.uniq_words.add(word)\n",
        "          self.num_list.append(count)\n",
        "          count+=1\n",
        "      \n",
        "    self.vocab_list=['<PAD>','<SOS>','<EOS>']+sorted(list(self.uniq_words))\n",
        "    self.num_list=[0,1,2]+self.num_list\n",
        "    print(\"Built vocabulary having {} elements\".format(len(self.vocab_list)))\n",
        "    print(\"Largest sentence length (with tags):{}\".format(self.maxlen))\n",
        "    return dict(zip(self.vocab_list,self.num_list)),dict(zip(self.num_list,self.vocab_list))\n",
        "\n",
        "\n",
        "\n",
        "\n"
      ],
      "execution_count": 50,
      "outputs": []
    },
    {
      "cell_type": "code",
      "metadata": {
        "id": "0JVuh6iKohIC"
      },
      "source": [
        "#Objects of Vocab_builder class\n",
        "eng=Vocab_builder('eng',df['eng'])\n",
        "ger=Vocab_builder('ger',df['ger'])\n"
      ],
      "execution_count": 51,
      "outputs": []
    },
    {
      "cell_type": "code",
      "metadata": {
        "colab": {
          "base_uri": "https://localhost:8080/"
        },
        "id": "uL4ZAsYizIsd",
        "outputId": "8303e563-e292-4d41-adfd-ad01f6f344b2"
      },
      "source": [
        "#English word to index and index to word dictionaries\n",
        "eng_w2i,eng_i2w=eng.build_vocab()\n"
      ],
      "execution_count": 52,
      "outputs": [
        {
          "output_type": "stream",
          "text": [
            "Built vocabulary having 3655 elements\n",
            "Largest sentence length (with tags):9\n"
          ],
          "name": "stdout"
        }
      ]
    },
    {
      "cell_type": "code",
      "metadata": {
        "colab": {
          "base_uri": "https://localhost:8080/"
        },
        "id": "TsH4pLi3zOcS",
        "outputId": "9634beab-e8b9-4e72-a570-413674368491"
      },
      "source": [
        "#checking for special characters in English dictionary\n",
        "for i in sorted (eng_w2i.keys())[:20] :  \n",
        "     print(i, end = \" \") "
      ],
      "execution_count": 53,
      "outputs": [
        {
          "output_type": "stream",
          "text": [
            "! $ - . <EOS> <PAD> <SOS> ? a aah abandon abandoned abated abhor able aboard about abroad absent absurd "
          ],
          "name": "stdout"
        }
      ]
    },
    {
      "cell_type": "code",
      "metadata": {
        "id": "eWE4mEkcMF2T",
        "colab": {
          "base_uri": "https://localhost:8080/"
        },
        "outputId": "e4cb8551-39a1-40e7-e3b1-03c7d5d96e51"
      },
      "source": [
        "#German word to index and index to word dictionaries\n",
        "ger_w2i,ger_i2w=ger.build_vocab()"
      ],
      "execution_count": 54,
      "outputs": [
        {
          "output_type": "stream",
          "text": [
            "Built vocabulary having 4892 elements\n",
            "Largest sentence length (with tags):13\n"
          ],
          "name": "stdout"
        }
      ]
    },
    {
      "cell_type": "code",
      "metadata": {
        "colab": {
          "base_uri": "https://localhost:8080/"
        },
        "id": "QDAzP_ePoJK0",
        "outputId": "ec8469bc-f615-4465-a9a3-bf2803af2219"
      },
      "source": [
        "#checking if the index dictionaries are correct\n",
        "'geh'==ger_i2w[ger_w2i['geh']]"
      ],
      "execution_count": 55,
      "outputs": [
        {
          "output_type": "execute_result",
          "data": {
            "text/plain": [
              "True"
            ]
          },
          "metadata": {
            "tags": []
          },
          "execution_count": 55
        }
      ]
    },
    {
      "cell_type": "code",
      "metadata": {
        "colab": {
          "base_uri": "https://localhost:8080/"
        },
        "id": "tylnxt3Xoqj3",
        "outputId": "7f8047b1-e9e6-430e-d18c-e8e8735f1cb5"
      },
      "source": [
        "'go'==eng_i2w[eng_w2i['go']]"
      ],
      "execution_count": 56,
      "outputs": [
        {
          "output_type": "execute_result",
          "data": {
            "text/plain": [
              "True"
            ]
          },
          "metadata": {
            "tags": []
          },
          "execution_count": 56
        }
      ]
    },
    {
      "cell_type": "code",
      "metadata": {
        "colab": {
          "base_uri": "https://localhost:8080/"
        },
        "id": "rglyUxdDxD3Z",
        "outputId": "989ea68b-5f8f-44a7-960d-ad88194a5ec1"
      },
      "source": [
        "#checking for special characters in German dictionary\n",
        "for i in sorted (ger_w2i.keys())[:20] :  \n",
        "     print(i, end = \" \") "
      ],
      "execution_count": 57,
      "outputs": [
        {
          "output_type": "stream",
          "text": [
            "! $ - . <EOS> <PAD> <SOS> ? ab abbiegen abend abendbrot abendessen abenteuer aber abgefahren abgekommen abgelaufen abgelehnt abgelenkt "
          ],
          "name": "stdout"
        }
      ]
    },
    {
      "cell_type": "code",
      "metadata": {
        "id": "HctDyjqmxKuX"
      },
      "source": [
        "def sent_to_ind(sentence,lang):\n",
        "  '''\n",
        "  Tokenizes a string and\n",
        "  converts it to an np array of \n",
        "  indices and pads the \n",
        "  array according to max sentence length\n",
        "  '''\n",
        "  ind_list=[]\n",
        "  if lang=='eng':\n",
        "    tokens=eng.tokenize(sentence)\n",
        "    for token in tokens:\n",
        "      ind_list.append(eng_w2i[token])\n",
        "    while len(ind_list)<max(ger.maxlen,eng.maxlen):\n",
        "      ind_list.append(0)\n",
        "  else:\n",
        "    tokens=ger.tokenize(sentence)\n",
        "    for token in tokens:\n",
        "      ind_list.append(ger_w2i[token])\n",
        "    while len(ind_list)<max(ger.maxlen,eng.maxlen):\n",
        "      ind_list.append(0)\n",
        "    \n",
        "  return np.array(ind_list)\n",
        "\n"
      ],
      "execution_count": 58,
      "outputs": []
    },
    {
      "cell_type": "code",
      "metadata": {
        "colab": {
          "base_uri": "https://localhost:8080/"
        },
        "id": "ix5EpSK3eQod",
        "outputId": "3ed8cf72-5fd8-4157-8a34-16430c63942b"
      },
      "source": [
        "#Checking correctness of sentence to index conversion\n",
        "test_lis=sent_to_ind('<SOS> tom wird bald hier sein . was heißt bald ? <EOS>','ger')\n",
        "\n",
        "print(len(test_lis))\n",
        "print(test_lis)"
      ],
      "execution_count": 59,
      "outputs": [
        {
          "output_type": "stream",
          "text": [
            "13\n",
            "[   1 4003 4686  309 1988 3604    6 4568 1946  309    7    2    0]\n"
          ],
          "name": "stdout"
        }
      ]
    },
    {
      "cell_type": "code",
      "metadata": {
        "colab": {
          "base_uri": "https://localhost:8080/"
        },
        "id": "YJfhMnYBhXb8",
        "outputId": "bb6a992a-889c-48ee-ac3a-b420ef2d0de3"
      },
      "source": [
        "test_lis=sent_to_ind(\"<SOS> tom will be here soon . how soon ? <EOS>\",'eng')\n",
        "print(len(test_lis))\n",
        "print(test_lis)"
      ],
      "execution_count": 60,
      "outputs": [
        {
          "output_type": "stream",
          "text": [
            "13\n",
            "[   1 3269 3557  262 1477 2927    6 1551 2927    7    2    0    0]\n"
          ],
          "name": "stdout"
        }
      ]
    },
    {
      "cell_type": "code",
      "metadata": {
        "id": "7VENEOHriC99"
      },
      "source": [
        "#splitting the data into training,testing and validation sets\n",
        "\n",
        "train_x,test_x,train_y,test_y=train_test_split(df['eng'],df['ger'],test_size=0.1,random_state=42)\n",
        "train_x,val_x,train_y,val_y=train_test_split(train_x,train_y,test_size=0.23,random_state=42)\n"
      ],
      "execution_count": 22,
      "outputs": []
    },
    {
      "cell_type": "code",
      "metadata": {
        "id": "NetMWl-AtVvi"
      },
      "source": [
        "def sent_to_np(series,lang,translate_mode):\n",
        "  '''\n",
        "  Converts a dataframe column to \n",
        "  a unsqueezed np array of indexes\n",
        "  with padding for feeding into NN\n",
        "  '''\n",
        "  ret_list=[]\n",
        "  if translate_mode==False :\n",
        "    if lang=='eng':\n",
        "      for index,val in series.items():\n",
        "        ret_list.append(sent_to_ind(val,'eng'))\n",
        "    else:\n",
        "      for index,val in series.items():\n",
        "        ret_list.append(sent_to_ind(val,'ger'))\n",
        "    \n",
        "    ret_list=np.array(ret_list)\n",
        "    return np.expand_dims(ret_list,axis=2)\n",
        "  else:\n",
        "    ans=sent_to_ind(series,'eng')\n",
        "    ans=np.expand_dims(ans,axis=0)\n",
        "    ans=np.expand_dims(ans,axis=2)\n",
        "    return ans\n"
      ],
      "execution_count": 23,
      "outputs": []
    },
    {
      "cell_type": "code",
      "metadata": {
        "id": "BdCHrrTaSqww"
      },
      "source": [
        "train_x=sent_to_np(train_x,'eng',False)\n",
        "train_y=sent_to_np(train_y,'ger',False)\n",
        "test_x=sent_to_np(test_x,'eng',False)\n",
        "test_y=sent_to_np(test_y,'ger',False)\n",
        "val_x=sent_to_np(val_x,'eng',False)\n",
        "val_y=sent_to_np(val_y,'ger',False)\n"
      ],
      "execution_count": 24,
      "outputs": []
    },
    {
      "cell_type": "code",
      "metadata": {
        "colab": {
          "base_uri": "https://localhost:8080/"
        },
        "id": "eLHAZ_vw7un7",
        "outputId": "2b85db75-7b1a-4233-a63d-2897ccade590"
      },
      "source": [
        "train_y=to_categorical(train_y,num_classes=len(ger.vocab_list))\r\n",
        "test_y=to_categorical(test_y,num_classes=len(ger.vocab_list))\r\n",
        "val_y=to_categorical(val_y,num_classes=len(ger.vocab_list))\r\n",
        "print(train_y.shape)\r\n",
        "print(test_y.shape)\r\n",
        "print(val_y.shape)\r\n"
      ],
      "execution_count": 26,
      "outputs": [
        {
          "output_type": "stream",
          "text": [
            "(10291, 13, 4892)\n",
            "(1485, 13, 4892)\n",
            "(3074, 13, 4892)\n"
          ],
          "name": "stdout"
        }
      ]
    },
    {
      "cell_type": "code",
      "metadata": {
        "colab": {
          "base_uri": "https://localhost:8080/"
        },
        "id": "BDpCjhQZur_O",
        "outputId": "8f7b0cac-3932-4461-d1ae-a6fb4ce9d667"
      },
      "source": [
        "# [batch,timesteps,feature]\n",
        "print(train_x.shape)\n",
        "print(train_y.shape)"
      ],
      "execution_count": 61,
      "outputs": [
        {
          "output_type": "stream",
          "text": [
            "(10291, 13, 1)\n",
            "(10291, 13, 4892)\n"
          ],
          "name": "stdout"
        }
      ]
    },
    {
      "cell_type": "code",
      "metadata": {
        "colab": {
          "base_uri": "https://localhost:8080/"
        },
        "id": "0Frd_j1wuxz5",
        "outputId": "86641581-ca1d-4406-c67c-e41cd769edb8"
      },
      "source": [
        "print(test_x.shape)\n",
        "print(test_y.shape)"
      ],
      "execution_count": 62,
      "outputs": [
        {
          "output_type": "stream",
          "text": [
            "(1485, 13, 1)\n",
            "(1485, 13, 4892)\n"
          ],
          "name": "stdout"
        }
      ]
    },
    {
      "cell_type": "code",
      "metadata": {
        "colab": {
          "base_uri": "https://localhost:8080/"
        },
        "id": "s1dFoeFhuzjt",
        "outputId": "2dd07eee-bbba-4bce-d2a3-4a2967c2d2b9"
      },
      "source": [
        "print(val_x.shape)\n",
        "print(val_y.shape)"
      ],
      "execution_count": 63,
      "outputs": [
        {
          "output_type": "stream",
          "text": [
            "(3074, 13, 1)\n",
            "(3074, 13, 4892)\n"
          ],
          "name": "stdout"
        }
      ]
    },
    {
      "cell_type": "code",
      "metadata": {
        "id": "2Zt6VKybF7WK"
      },
      "source": [
        "def translate(sentence,mod,embedded):\n",
        "  '''\n",
        "  Function for translating given English sentence\n",
        "  to German using model predictions\n",
        "  '''\n",
        "  ans=\"\"\n",
        "  preproc_sent=process_text(sentence,True)\n",
        "  \n",
        "  model_inp=sent_to_np(preproc_sent,'eng',True)\n",
        "  if (embedded):\n",
        "    model_inp=np.squeeze(model_inp,axis=2)\n",
        "  \n",
        "  pred=mod.predict(model_inp)\n",
        "  for i in pred[0]:\n",
        "    ind=np.argmax(i)\n",
        "    if(ger_i2w[ind]=='<SOS>' or ger_i2w[ind]=='<EOS>' or ger_i2w[ind]=='<PAD>'):\n",
        "        continue\n",
        "    ans+=ger_i2w[ind]\n",
        "    ans+=\" \"\n",
        "  return ans"
      ],
      "execution_count": 78,
      "outputs": []
    },
    {
      "cell_type": "code",
      "metadata": {
        "id": "u_cqENbVFpVI"
      },
      "source": [
        "#training starts here ----------------------------------------------------------"
      ],
      "execution_count": null,
      "outputs": []
    },
    {
      "cell_type": "code",
      "metadata": {
        "colab": {
          "base_uri": "https://localhost:8080/"
        },
        "id": "3jBADUl-Buhn",
        "outputId": "7afdd9e6-d442-4b75-a6e4-6bda18348387"
      },
      "source": [
        "\n",
        "#Removing singleton axis  3rd axis\n",
        "#for embedding layer\n",
        "t_x=np.squeeze(train_x,axis=2)\n",
        "v_x=np.squeeze(val_x,axis=2)\n",
        "te_x=np.squeeze(test_x,axis=2)\n",
        "print(t_x.shape)\n",
        "print(v_x.shape)\n",
        "print(te_x.shape)"
      ],
      "execution_count": 65,
      "outputs": [
        {
          "output_type": "stream",
          "text": [
            "(10291, 13)\n",
            "(3074, 13)\n",
            "(1485, 13)\n"
          ],
          "name": "stdout"
        }
      ]
    },
    {
      "cell_type": "code",
      "metadata": {
        "id": "sEFKmQmibP_y"
      },
      "source": [
        "\n",
        "def leaky_relu(x):\n",
        "    return tf.nn.leaky_relu(x, alpha=0.03)\n",
        "\n",
        "\n",
        "def base_LSTM_model_HP_TUNING(hp):\n",
        "  '''\n",
        "  Simple LSTM model for hyperparameter tuning\n",
        "  '''\n",
        "  m1_lstm_units=hp.Int('units',min_value=32,max_value=128,step=32)\n",
        "  m1_lr=hp.Choice('learning_rate', values = [0.001,0.003,0.005,0.008,0.01,0.05]) \n",
        "  lstm=LSTM(m1_lstm_units,return_sequences=True,activation='tanh')  #LSTM layer with output being hiddent state at time t\n",
        "  layer_at_t=TimeDistributed(Dense(len(ger.vocab_list),activation='softmax')) #Dense layer acting on hidden output at each step to generate predictions\n",
        "  model=tf.keras.Sequential()\n",
        "  model.add(InputLayer(train_x.shape[1:]))\n",
        "  model.add(lstm)\n",
        "  model.add(layer_at_t)\n",
        "\n",
        "  model.compile(loss=sparse_categorical_crossentropy,optimizer=Adam(m1_lr),metrics=['accuracy','MeanSquaredError',tf.keras.metrics.Precision(),tf.keras.metrics.Recall()])\n",
        "  return model\n"
      ],
      "execution_count": null,
      "outputs": []
    },
    {
      "cell_type": "code",
      "metadata": {
        "id": "tQohAY2OPyV8"
      },
      "source": [
        "def embedding_LSTM_HP_TUNING(hp):\n",
        "  '''\n",
        "  LSTM model with embedding layer for hyperparameter tuning\n",
        "  '''\n",
        "  m2_lstm_units=hp.Int('units',min_value=32,max_value=128,step=32)\n",
        "  m2_lr=hp.Choice('learning_rate', values = [0.001,0.003,0.005,0.008,0.01,0.05,0.08])\n",
        "  embedding_col=hp.Int('output_dim',min_value=32,max_value=160,step=32)\n",
        "  lstm=LSTM(m2_lstm_units,return_sequences=True,activation='tanh')\n",
        "  print(t_x.shape[1])\n",
        "  embed=Embedding(len(ger.vocab_list),embedding_col,input_length=t_x.shape[1])\n",
        "  layer_at_t=TimeDistributed(Dense(len(ger.vocab_list),activation=\"softmax\"))\n",
        "  model=tf.keras.Sequential()\n",
        "  model.add(embed)\n",
        "  model.add(lstm)\n",
        "  model.add(layer_at_t)\n",
        "\n",
        "  model.compile(loss=sparse_categorical_crossentropy,optimizer=Adam(m2_lr),metrics=['accuracy','MeanSquaredError',tf.keras.metrics.Precision(),tf.keras.metrics.Recall()])\n",
        "  return model\n",
        "  "
      ],
      "execution_count": null,
      "outputs": []
    },
    {
      "cell_type": "code",
      "metadata": {
        "id": "CxxlHHvjIAjf"
      },
      "source": [
        "class ClearTrainingOutput(tf.keras.callbacks.Callback):\n",
        "  def on_train_end(*args, **kwargs):\n",
        "    IPython.display.clear_output(wait = True)\n",
        "\n"
      ],
      "execution_count": null,
      "outputs": []
    },
    {
      "cell_type": "code",
      "metadata": {
        "id": "l6eCU8-iy7Ii"
      },
      "source": [
        "#Hyperparameter tuning starts here\n",
        "#Hyperparameter tuning of base model\n",
        "tuner = kt.BayesianOptimization(base_LSTM_model_HP_TUNING,\n",
        "                     objective = 'val_accuracy', \n",
        "                     num_initial_points=50,\n",
        "                     max_trials=15,\n",
        "                     directory='./',\n",
        "                     project_name='base_LSTM')\n"
      ],
      "execution_count": null,
      "outputs": []
    },
    {
      "cell_type": "code",
      "metadata": {
        "id": "s_jHXV22JtT1",
        "colab": {
          "base_uri": "https://localhost:8080/"
        },
        "outputId": "9356eca9-f117-470e-e2a1-bc4c6b8ec9f0"
      },
      "source": [
        "tuner.search(train_x,train_y, epochs = 25, validation_data = (val_x, val_y), callbacks = [ClearTrainingOutput()])"
      ],
      "execution_count": null,
      "outputs": [
        {
          "output_type": "stream",
          "text": [
            "Trial 16 Complete [00h 02m 53s]\n",
            "val_accuracy: 0.7552497386932373\n",
            "\n",
            "Best val_accuracy So Far: 0.765637218952179\n",
            "Total elapsed time: 00h 47m 45s\n",
            "INFO:tensorflow:Oracle triggered exit\n"
          ],
          "name": "stdout"
        }
      ]
    },
    {
      "cell_type": "code",
      "metadata": {
        "id": "zRHXC9iqgFgA"
      },
      "source": [
        "best_hps1 = tuner.get_best_hyperparameters(num_trials = 1)[0]"
      ],
      "execution_count": null,
      "outputs": []
    },
    {
      "cell_type": "code",
      "metadata": {
        "colab": {
          "base_uri": "https://localhost:8080/"
        },
        "id": "QA7iXB2uieqC",
        "outputId": "c5b350f3-0052-4ec6-9b71-ee66e7fec116"
      },
      "source": [
        "best_hps1.get('units')"
      ],
      "execution_count": null,
      "outputs": [
        {
          "output_type": "execute_result",
          "data": {
            "text/plain": [
              "128"
            ]
          },
          "metadata": {
            "tags": []
          },
          "execution_count": 36
        }
      ]
    },
    {
      "cell_type": "code",
      "metadata": {
        "colab": {
          "base_uri": "https://localhost:8080/"
        },
        "id": "iaZPnvb3igA4",
        "outputId": "edf45185-7648-4e5f-e907-3f4a03fc7f3c"
      },
      "source": [
        "best_hps1.get('learning_rate')"
      ],
      "execution_count": null,
      "outputs": [
        {
          "output_type": "execute_result",
          "data": {
            "text/plain": [
              "0.001"
            ]
          },
          "metadata": {
            "tags": []
          },
          "execution_count": 37
        }
      ]
    },
    {
      "cell_type": "code",
      "metadata": {
        "colab": {
          "base_uri": "https://localhost:8080/"
        },
        "id": "bVv7aXRFioJy",
        "outputId": "7167fc26-6179-4060-cd70-c852a4882579"
      },
      "source": [
        "tuner2 = kt.BayesianOptimization(embedding_LSTM_HP_TUNING,\n",
        "                     objective = 'val_accuracy', \n",
        "                     num_initial_points=50,\n",
        "                     max_trials=30,\n",
        "                     directory='./',\n",
        "                     project_name='embedding')\n"
      ],
      "execution_count": null,
      "outputs": [
        {
          "output_type": "stream",
          "text": [
            "31\n"
          ],
          "name": "stdout"
        }
      ]
    },
    {
      "cell_type": "code",
      "metadata": {
        "colab": {
          "base_uri": "https://localhost:8080/"
        },
        "id": "351_XxE0wjvx",
        "outputId": "d721d465-7a63-4c7b-c307-5be934665b9f"
      },
      "source": [
        "tuner2.search(t_x,train_y, epochs = 30, validation_data = (v_x, val_y), callbacks = [ClearTrainingOutput()])\n"
      ],
      "execution_count": null,
      "outputs": [
        {
          "output_type": "stream",
          "text": [
            "Trial 30 Complete [00h 07m 08s]\n",
            "val_accuracy: 0.8056359887123108\n",
            "\n",
            "Best val_accuracy So Far: 0.8067874908447266\n",
            "Total elapsed time: 03h 46m 53s\n",
            "INFO:tensorflow:Oracle triggered exit\n"
          ],
          "name": "stdout"
        }
      ]
    },
    {
      "cell_type": "code",
      "metadata": {
        "id": "nuFGzxbtwkzH"
      },
      "source": [
        "best_hps2 = tuner2.get_best_hyperparameters(num_trials = 1)[0]"
      ],
      "execution_count": null,
      "outputs": []
    },
    {
      "cell_type": "code",
      "metadata": {
        "colab": {
          "base_uri": "https://localhost:8080/"
        },
        "id": "Q3PWz0b9wkwx",
        "outputId": "4e28e262-02b5-46d4-cbe7-b62db5543bda"
      },
      "source": [
        "best_hps2.get('units')"
      ],
      "execution_count": null,
      "outputs": [
        {
          "output_type": "execute_result",
          "data": {
            "text/plain": [
              "128"
            ]
          },
          "metadata": {
            "tags": []
          },
          "execution_count": 41
        }
      ]
    },
    {
      "cell_type": "code",
      "metadata": {
        "colab": {
          "base_uri": "https://localhost:8080/"
        },
        "id": "CdrijzI-wktw",
        "outputId": "27d76356-c513-49f8-f3d8-bae31c21bd26"
      },
      "source": [
        "best_hps2.get('learning_rate')"
      ],
      "execution_count": null,
      "outputs": [
        {
          "output_type": "execute_result",
          "data": {
            "text/plain": [
              "0.01"
            ]
          },
          "metadata": {
            "tags": []
          },
          "execution_count": 42
        }
      ]
    },
    {
      "cell_type": "code",
      "metadata": {
        "colab": {
          "base_uri": "https://localhost:8080/"
        },
        "id": "fAwDCBOOxPbb",
        "outputId": "c50c6b2d-9153-4c12-f565-8cabdc9f7c32"
      },
      "source": [
        "best_hps2.get('output_dim')"
      ],
      "execution_count": null,
      "outputs": [
        {
          "output_type": "execute_result",
          "data": {
            "text/plain": [
              "96"
            ]
          },
          "metadata": {
            "tags": []
          },
          "execution_count": 44
        }
      ]
    },
    {
      "cell_type": "code",
      "metadata": {
        "id": "zDRqYzYqv6uX"
      },
      "source": [
        "#Making base model using best hyperparameters\n",
        "def base_LSTM_model(m1_lstm_units,m1_lr):\n",
        "  '''\n",
        "  Simple LSTM model\n",
        "  '''\n",
        "  lstm=LSTM(m1_lstm_units,return_sequences=True,activation='tanh')  #LSTM layer with output being hiddent state at time t\n",
        "  layer_at_t=TimeDistributed(Dense(len(ger.vocab_list),activation='softmax')) #Dense layer acting on hidden output at each step to generate predictions\n",
        "  model=tf.keras.Sequential()\n",
        "  model.add(InputLayer(train_x.shape[1:]))\n",
        "  model.add(lstm)\n",
        "  model.add(layer_at_t)\n",
        "\n",
        "  model.compile(loss=categorical_crossentropy,optimizer=Adam(m1_lr),metrics=['accuracy','MeanSquaredError',tf.keras.metrics.Precision(),tf.keras.metrics.Recall()])\n",
        "  return model"
      ],
      "execution_count": null,
      "outputs": []
    },
    {
      "cell_type": "code",
      "metadata": {
        "id": "uFvJdTxXw6It"
      },
      "source": [
        "#Making embedding model using hyperparameters\n",
        "def embedding_LSTM(m2_lstm_units,m2_lr,embedding_col):\n",
        "  '''\n",
        "  LSTM model with embedding layer\n",
        "  '''\n",
        "  lstm=LSTM(m2_lstm_units,return_sequences=True,activation='tanh')\n",
        "  print(t_x.shape[1])\n",
        "  embed=Embedding(len(ger.vocab_list),embedding_col,input_length=t_x.shape[1])\n",
        "  layer_at_t=TimeDistributed(Dense(len(ger.vocab_list),activation=\"softmax\"))\n",
        "  model=tf.keras.Sequential()\n",
        "  model.add(embed)\n",
        "  model.add(lstm)\n",
        "  model.add(layer_at_t)\n",
        "\n",
        "  model.compile(loss=categorical_crossentropy,optimizer=Adam(m2_lr),metrics=['accuracy','MeanSquaredError',tf.keras.metrics.Precision(),tf.keras.metrics.Recall()])\n",
        "  return model"
      ],
      "execution_count": 67,
      "outputs": []
    },
    {
      "cell_type": "code",
      "metadata": {
        "id": "fWOrrfsRNOcT",
        "colab": {
          "base_uri": "https://localhost:8080/"
        },
        "outputId": "7441b04a-19ac-4115-b6b5-c4f190c1d732"
      },
      "source": [
        "base_model=base_LSTM_model(128,0.001)\n",
        "base_model.summary()"
      ],
      "execution_count": null,
      "outputs": [
        {
          "output_type": "stream",
          "text": [
            "Model: \"sequential_6\"\n",
            "_________________________________________________________________\n",
            "Layer (type)                 Output Shape              Param #   \n",
            "=================================================================\n",
            "lstm_6 (LSTM)                (None, 13, 128)           66560     \n",
            "_________________________________________________________________\n",
            "time_distributed_6 (TimeDist (None, 13, 4892)          631068    \n",
            "=================================================================\n",
            "Total params: 697,628\n",
            "Trainable params: 697,628\n",
            "Non-trainable params: 0\n",
            "_________________________________________________________________\n"
          ],
          "name": "stdout"
        }
      ]
    },
    {
      "cell_type": "code",
      "metadata": {
        "colab": {
          "base_uri": "https://localhost:8080/"
        },
        "id": "Bzsf600cPN9w",
        "outputId": "38b3f890-455e-4cc4-f33c-6a5cb5d958ad"
      },
      "source": [
        "#training the base model\n",
        "\n",
        "base_model.fit(train_x,train_y,m1_batch_size,m1_epochs,validation_data=(val_x,val_y))\n"
      ],
      "execution_count": null,
      "outputs": [
        {
          "output_type": "stream",
          "text": [
            "Train on 10291 samples, validate on 3074 samples\n",
            "Epoch 1/25\n",
            "10291/10291 [==============================] - 5s 527us/sample - loss: 4.4040 - acc: 0.4942 - mean_squared_error: 1.4624e-04 - precision_7: 0.8602 - recall_6: 0.2758 - val_loss: 2.7209 - val_acc: 0.5539 - val_mean_squared_error: 1.0406e-04 - val_precision_7: 0.9218 - val_recall_6: 0.4873\n",
            "Epoch 2/25\n",
            "10291/10291 [==============================] - 5s 449us/sample - loss: 2.6246 - acc: 0.6319 - mean_squared_error: 1.0174e-04 - precision_7: 0.9256 - recall_6: 0.4815 - val_loss: 2.5904 - val_acc: 0.6359 - val_mean_squared_error: 1.0024e-04 - val_precision_7: 0.9224 - val_recall_6: 0.4870\n",
            "Epoch 3/25\n",
            "10291/10291 [==============================] - 5s 447us/sample - loss: 2.4948 - acc: 0.6522 - mean_squared_error: 1.0012e-04 - precision_7: 0.9298 - recall_6: 0.4784 - val_loss: 2.4443 - val_acc: 0.6540 - val_mean_squared_error: 9.9470e-05 - val_precision_7: 0.9225 - val_recall_6: 0.4871\n",
            "Epoch 4/25\n",
            "10291/10291 [==============================] - 5s 452us/sample - loss: 2.2647 - acc: 0.6551 - mean_squared_error: 9.8784e-05 - precision_7: 0.9268 - recall_6: 0.4818 - val_loss: 2.1417 - val_acc: 0.6616 - val_mean_squared_error: 9.5921e-05 - val_precision_7: 0.9200 - val_recall_6: 0.4873\n",
            "Epoch 5/25\n",
            "10291/10291 [==============================] - 5s 450us/sample - loss: 1.9690 - acc: 0.6632 - mean_squared_error: 8.8187e-05 - precision_7: 0.9296 - recall_6: 0.5241 - val_loss: 1.9557 - val_acc: 0.6626 - val_mean_squared_error: 8.3219e-05 - val_precision_7: 0.9271 - val_recall_6: 0.5671\n",
            "Epoch 6/25\n",
            "10291/10291 [==============================] - 5s 452us/sample - loss: 1.8798 - acc: 0.6618 - mean_squared_error: 8.2921e-05 - precision_7: 0.9281 - recall_6: 0.5673 - val_loss: 1.9243 - val_acc: 0.6640 - val_mean_squared_error: 8.2241e-05 - val_precision_7: 0.9221 - val_recall_6: 0.5740\n",
            "Epoch 7/25\n",
            "10291/10291 [==============================] - 5s 450us/sample - loss: 1.8528 - acc: 0.6636 - mean_squared_error: 8.2353e-05 - precision_7: 0.9200 - recall_6: 0.5746 - val_loss: 1.9073 - val_acc: 0.6633 - val_mean_squared_error: 8.1784e-05 - val_precision_7: 0.9315 - val_recall_6: 0.5686\n",
            "Epoch 8/25\n",
            "10291/10291 [==============================] - 5s 451us/sample - loss: 1.8337 - acc: 0.6651 - mean_squared_error: 8.1887e-05 - precision_7: 0.9198 - recall_6: 0.5789 - val_loss: 1.8938 - val_acc: 0.6639 - val_mean_squared_error: 8.1342e-05 - val_precision_7: 0.9215 - val_recall_6: 0.5791\n",
            "Epoch 9/25\n",
            "10291/10291 [==============================] - 5s 445us/sample - loss: 1.8174 - acc: 0.6692 - mean_squared_error: 8.1509e-05 - precision_7: 0.9189 - recall_6: 0.5815 - val_loss: 1.8848 - val_acc: 0.6635 - val_mean_squared_error: 8.1134e-05 - val_precision_7: 0.9245 - val_recall_6: 0.5764\n",
            "Epoch 10/25\n",
            "10291/10291 [==============================] - 5s 445us/sample - loss: 1.8008 - acc: 0.6792 - mean_squared_error: 8.1103e-05 - precision_7: 0.9167 - recall_6: 0.5850 - val_loss: 1.8747 - val_acc: 0.6854 - val_mean_squared_error: 8.0760e-05 - val_precision_7: 0.9275 - val_recall_6: 0.5739\n",
            "Epoch 11/25\n",
            "10291/10291 [==============================] - 5s 446us/sample - loss: 1.7818 - acc: 0.6850 - mean_squared_error: 8.0535e-05 - precision_7: 0.9131 - recall_6: 0.5880 - val_loss: 1.8580 - val_acc: 0.6876 - val_mean_squared_error: 8.0037e-05 - val_precision_7: 0.9019 - val_recall_6: 0.5964\n",
            "Epoch 12/25\n",
            "10291/10291 [==============================] - 5s 447us/sample - loss: 1.7634 - acc: 0.6870 - mean_squared_error: 8.0027e-05 - precision_7: 0.9113 - recall_6: 0.5890 - val_loss: 1.8436 - val_acc: 0.6888 - val_mean_squared_error: 7.9498e-05 - val_precision_7: 0.9002 - val_recall_6: 0.5971\n",
            "Epoch 13/25\n",
            "10291/10291 [==============================] - 5s 446us/sample - loss: 1.7424 - acc: 0.6890 - mean_squared_error: 7.9367e-05 - precision_7: 0.9099 - recall_6: 0.5914 - val_loss: 1.8328 - val_acc: 0.6891 - val_mean_squared_error: 7.8929e-05 - val_precision_7: 0.9125 - val_recall_6: 0.5885\n",
            "Epoch 14/25\n",
            "10291/10291 [==============================] - 5s 446us/sample - loss: 1.7252 - acc: 0.6910 - mean_squared_error: 7.8929e-05 - precision_7: 0.9118 - recall_6: 0.5913 - val_loss: 1.8177 - val_acc: 0.6907 - val_mean_squared_error: 7.8505e-05 - val_precision_7: 0.9214 - val_recall_6: 0.5817\n",
            "Epoch 15/25\n",
            "10291/10291 [==============================] - 5s 443us/sample - loss: 1.7086 - acc: 0.6935 - mean_squared_error: 7.8492e-05 - precision_7: 0.9119 - recall_6: 0.5918 - val_loss: 1.8097 - val_acc: 0.6939 - val_mean_squared_error: 7.8435e-05 - val_precision_7: 0.8962 - val_recall_6: 0.6022\n",
            "Epoch 16/25\n",
            "10291/10291 [==============================] - 5s 448us/sample - loss: 1.6937 - acc: 0.6950 - mean_squared_error: 7.8180e-05 - precision_7: 0.9070 - recall_6: 0.5955 - val_loss: 1.7972 - val_acc: 0.6962 - val_mean_squared_error: 7.7946e-05 - val_precision_7: 0.9155 - val_recall_6: 0.5868\n",
            "Epoch 17/25\n",
            "10291/10291 [==============================] - 5s 444us/sample - loss: 1.6800 - acc: 0.6967 - mean_squared_error: 7.7881e-05 - precision_7: 0.9108 - recall_6: 0.5942 - val_loss: 1.7888 - val_acc: 0.6965 - val_mean_squared_error: 7.7759e-05 - val_precision_7: 0.9338 - val_recall_6: 0.5726\n",
            "Epoch 18/25\n",
            "10291/10291 [==============================] - 5s 447us/sample - loss: 1.6681 - acc: 0.6978 - mean_squared_error: 7.7700e-05 - precision_7: 0.9141 - recall_6: 0.5925 - val_loss: 1.7812 - val_acc: 0.6993 - val_mean_squared_error: 7.7459e-05 - val_precision_7: 0.8950 - val_recall_6: 0.6063\n",
            "Epoch 19/25\n",
            "10291/10291 [==============================] - 5s 444us/sample - loss: 1.6574 - acc: 0.6986 - mean_squared_error: 7.7534e-05 - precision_7: 0.9107 - recall_6: 0.5960 - val_loss: 1.7770 - val_acc: 0.6993 - val_mean_squared_error: 7.7427e-05 - val_precision_7: 0.8995 - val_recall_6: 0.6014\n",
            "Epoch 20/25\n",
            "10291/10291 [==============================] - 5s 443us/sample - loss: 1.6484 - acc: 0.6992 - mean_squared_error: 7.7411e-05 - precision_7: 0.9071 - recall_6: 0.5994 - val_loss: 1.7737 - val_acc: 0.6971 - val_mean_squared_error: 7.7396e-05 - val_precision_7: 0.9000 - val_recall_6: 0.6014\n",
            "Epoch 21/25\n",
            "10291/10291 [==============================] - 5s 443us/sample - loss: 1.6378 - acc: 0.7000 - mean_squared_error: 7.7232e-05 - precision_7: 0.9069 - recall_6: 0.5995 - val_loss: 1.7654 - val_acc: 0.6991 - val_mean_squared_error: 7.7194e-05 - val_precision_7: 0.9035 - val_recall_6: 0.6004\n",
            "Epoch 22/25\n",
            "10291/10291 [==============================] - 5s 446us/sample - loss: 1.6280 - acc: 0.7010 - mean_squared_error: 7.7102e-05 - precision_7: 0.9051 - recall_6: 0.6030 - val_loss: 1.7644 - val_acc: 0.6994 - val_mean_squared_error: 7.7433e-05 - val_precision_7: 0.9163 - val_recall_6: 0.5859\n",
            "Epoch 23/25\n",
            "10291/10291 [==============================] - 5s 445us/sample - loss: 1.6202 - acc: 0.7011 - mean_squared_error: 7.7088e-05 - precision_7: 0.9051 - recall_6: 0.6019 - val_loss: 1.7582 - val_acc: 0.7003 - val_mean_squared_error: 7.7037e-05 - val_precision_7: 0.9151 - val_recall_6: 0.6016\n",
            "Epoch 24/25\n",
            "10291/10291 [==============================] - 5s 441us/sample - loss: 1.6113 - acc: 0.7022 - mean_squared_error: 7.6917e-05 - precision_7: 0.9046 - recall_6: 0.6055 - val_loss: 1.7559 - val_acc: 0.7004 - val_mean_squared_error: 7.7177e-05 - val_precision_7: 0.9123 - val_recall_6: 0.5896\n",
            "Epoch 25/25\n",
            "10291/10291 [==============================] - 5s 446us/sample - loss: 1.6045 - acc: 0.7021 - mean_squared_error: 7.6867e-05 - precision_7: 0.9026 - recall_6: 0.6087 - val_loss: 1.7498 - val_acc: 0.7025 - val_mean_squared_error: 7.6796e-05 - val_precision_7: 0.8858 - val_recall_6: 0.6167\n"
          ],
          "name": "stdout"
        },
        {
          "output_type": "execute_result",
          "data": {
            "text/plain": [
              "<tensorflow.python.keras.callbacks.History at 0x7f4660f234a8>"
            ]
          },
          "metadata": {
            "tags": []
          },
          "execution_count": 83
        }
      ]
    },
    {
      "cell_type": "code",
      "metadata": {
        "colab": {
          "base_uri": "https://localhost:8080/"
        },
        "id": "9nDxB8O0Dr33",
        "outputId": "b27e8b72-27a8-4800-bab2-340733b745d8"
      },
      "source": [
        "#Evaluating LSTM model on unseen data\n",
        "\n",
        "l,acc,mse,p,r=base_model.evaluate(test_x,test_y)\n",
        "print(\"Base model loss for testing set:{}\".format(l))\n",
        "print(\"Base model accuracy for testing set:{}\".format(acc))\n",
        "print(\"Base model precision for testing set:{}\".format(p))\n",
        "print(\"Base model recall for testing set:{}\".format(r))\n",
        "print(\"Base model f1_score for testing set:{}\".format((2*p*r)/(p+r)))"
      ],
      "execution_count": null,
      "outputs": [
        {
          "output_type": "stream",
          "text": [
            "1485/1485 [==============================] - 1s 400us/sample - loss: 1.7264 - acc: 0.7080 - mean_squared_error: 7.6027e-05 - precision_7: 0.8947 - recall_6: 0.6224\n",
            "Base model loss for testing set:1.7263565836530743\n",
            "Base model accuracy for testing set:0.7080031037330627\n",
            "Base model precision for testing set:0.8947054743766785\n",
            "Base model recall for testing set:0.6223776340484619\n",
            "Base model f1_score for testing set:0.73409907650077\n"
          ],
          "name": "stdout"
        }
      ]
    },
    {
      "cell_type": "code",
      "metadata": {
        "id": "-V7nQnNrM6ck",
        "colab": {
          "base_uri": "https://localhost:8080/",
          "height": 35
        },
        "outputId": "2be4360f-6157-4e3c-8c20-0c2bf7aa7bff"
      },
      "source": [
        "#Sample translation by base LSTM model\n",
        "translate(\"work here\",base_model,False)"
      ],
      "execution_count": null,
      "outputs": [
        {
          "output_type": "execute_result",
          "data": {
            "application/vnd.google.colaboratory.intrinsic+json": {
              "type": "string"
            },
            "text/plain": [
              "'tom ist ! ! '"
            ]
          },
          "metadata": {
            "tags": []
          },
          "execution_count": 87
        }
      ]
    },
    {
      "cell_type": "code",
      "metadata": {
        "colab": {
          "base_uri": "https://localhost:8080/"
        },
        "id": "eB5CvJLV5LzC",
        "outputId": "71e13463-0b85-4f0b-dbb2-4f9eafc3c337"
      },
      "source": [
        "embeded_model=embedding_LSTM(128,0.01,96)\n",
        "embeded_model.summary()"
      ],
      "execution_count": 68,
      "outputs": [
        {
          "output_type": "stream",
          "text": [
            "13\n",
            "WARNING:tensorflow:From /tensorflow-1.15.2/python3.6/tensorflow_core/python/keras/initializers.py:119: calling RandomUniform.__init__ (from tensorflow.python.ops.init_ops) with dtype is deprecated and will be removed in a future version.\n",
            "Instructions for updating:\n",
            "Call initializer instance with the dtype argument instead of passing it to the constructor\n",
            "WARNING:tensorflow:From /tensorflow-1.15.2/python3.6/tensorflow_core/python/ops/resource_variable_ops.py:1630: calling BaseResourceVariable.__init__ (from tensorflow.python.ops.resource_variable_ops) with constraint is deprecated and will be removed in a future version.\n",
            "Instructions for updating:\n",
            "If using Keras pass *_constraint arguments to layers.\n",
            "Model: \"sequential\"\n",
            "_________________________________________________________________\n",
            "Layer (type)                 Output Shape              Param #   \n",
            "=================================================================\n",
            "embedding (Embedding)        (None, 13, 96)            469632    \n",
            "_________________________________________________________________\n",
            "lstm (LSTM)                  (None, 13, 128)           115200    \n",
            "_________________________________________________________________\n",
            "time_distributed (TimeDistri (None, 13, 4892)          631068    \n",
            "=================================================================\n",
            "Total params: 1,215,900\n",
            "Trainable params: 1,215,900\n",
            "Non-trainable params: 0\n",
            "_________________________________________________________________\n"
          ],
          "name": "stdout"
        }
      ]
    },
    {
      "cell_type": "code",
      "metadata": {
        "colab": {
          "base_uri": "https://localhost:8080/"
        },
        "id": "oUWKsmwb5bZB",
        "outputId": "be15cc2b-de2d-496f-81e7-364815185f1b"
      },
      "source": [
        "#training embedding model\n",
        "embeded_model.fit(t_x,train_y,batch_size=128,epochs=15,validation_data=(v_x,val_y))"
      ],
      "execution_count": 69,
      "outputs": [
        {
          "output_type": "stream",
          "text": [
            "WARNING:tensorflow:From /tensorflow-1.15.2/python3.6/tensorflow_core/python/ops/math_grad.py:1424: where (from tensorflow.python.ops.array_ops) is deprecated and will be removed in a future version.\n",
            "Instructions for updating:\n",
            "Use tf.where in 2.0, which has the same broadcast rule as np.where\n",
            "Train on 10291 samples, validate on 3074 samples\n",
            "Epoch 1/15\n",
            "10291/10291 [==============================] - 7s 653us/sample - loss: 3.0208 - acc: 0.5962 - mean_squared_error: 1.0913e-04 - precision: 0.8397 - recall: 0.4952 - val_loss: 2.2759 - val_acc: 0.6687 - val_mean_squared_error: 8.0113e-05 - val_precision: 0.9534 - val_recall: 0.5718\n",
            "Epoch 2/15\n",
            "10291/10291 [==============================] - 4s 422us/sample - loss: 2.1154 - acc: 0.7076 - mean_squared_error: 7.4028e-05 - precision: 0.9279 - recall: 0.6405 - val_loss: 2.0116 - val_acc: 0.7297 - val_mean_squared_error: 6.9301e-05 - val_precision: 0.9300 - val_recall: 0.6699\n",
            "Epoch 3/15\n",
            "10291/10291 [==============================] - 4s 425us/sample - loss: 1.6511 - acc: 0.7483 - mean_squared_error: 6.4648e-05 - precision: 0.9284 - recall: 0.6946 - val_loss: 1.5161 - val_acc: 0.7567 - val_mean_squared_error: 6.3260e-05 - val_precision: 0.9188 - val_recall: 0.7021\n",
            "Epoch 4/15\n",
            "10291/10291 [==============================] - 4s 422us/sample - loss: 1.3231 - acc: 0.7785 - mean_squared_error: 5.7593e-05 - precision: 0.9316 - recall: 0.7333 - val_loss: 1.3896 - val_acc: 0.7783 - val_mean_squared_error: 5.9204e-05 - val_precision: 0.9142 - val_recall: 0.7367\n",
            "Epoch 5/15\n",
            "10291/10291 [==============================] - 4s 423us/sample - loss: 1.1392 - acc: 0.8014 - mean_squared_error: 5.2839e-05 - precision: 0.9339 - recall: 0.7580 - val_loss: 1.3151 - val_acc: 0.7906 - val_mean_squared_error: 5.7333e-05 - val_precision: 0.9130 - val_recall: 0.7447\n",
            "Epoch 6/15\n",
            "10291/10291 [==============================] - 4s 424us/sample - loss: 0.9962 - acc: 0.8171 - mean_squared_error: 4.9518e-05 - precision: 0.9356 - recall: 0.7732 - val_loss: 1.2604 - val_acc: 0.7999 - val_mean_squared_error: 5.5663e-05 - val_precision: 0.9124 - val_recall: 0.7558\n",
            "Epoch 7/15\n",
            "10291/10291 [==============================] - 4s 425us/sample - loss: 0.8774 - acc: 0.8295 - mean_squared_error: 4.6668e-05 - precision: 0.9379 - recall: 0.7853 - val_loss: 1.2260 - val_acc: 0.8035 - val_mean_squared_error: 5.4969e-05 - val_precision: 0.9071 - val_recall: 0.7621\n",
            "Epoch 8/15\n",
            "10291/10291 [==============================] - 4s 423us/sample - loss: 0.7744 - acc: 0.8427 - mean_squared_error: 4.3943e-05 - precision: 0.9399 - recall: 0.7975 - val_loss: 1.1994 - val_acc: 0.8104 - val_mean_squared_error: 5.3968e-05 - val_precision: 0.9081 - val_recall: 0.7693\n",
            "Epoch 9/15\n",
            "10291/10291 [==============================] - 4s 428us/sample - loss: 0.6856 - acc: 0.8557 - mean_squared_error: 4.1206e-05 - precision: 0.9427 - recall: 0.8088 - val_loss: 1.1874 - val_acc: 0.8106 - val_mean_squared_error: 5.3859e-05 - val_precision: 0.9066 - val_recall: 0.7686\n",
            "Epoch 10/15\n",
            "10291/10291 [==============================] - 4s 427us/sample - loss: 0.6132 - acc: 0.8667 - mean_squared_error: 3.8853e-05 - precision: 0.9447 - recall: 0.8188 - val_loss: 1.1819 - val_acc: 0.8122 - val_mean_squared_error: 5.3898e-05 - val_precision: 0.9028 - val_recall: 0.7732\n",
            "Epoch 11/15\n",
            "10291/10291 [==============================] - 4s 423us/sample - loss: 0.5495 - acc: 0.8770 - mean_squared_error: 3.6377e-05 - precision: 0.9459 - recall: 0.8291 - val_loss: 1.1819 - val_acc: 0.8142 - val_mean_squared_error: 5.3711e-05 - val_precision: 0.8989 - val_recall: 0.7793\n",
            "Epoch 12/15\n",
            "10291/10291 [==============================] - 4s 423us/sample - loss: 0.4963 - acc: 0.8868 - mean_squared_error: 3.3809e-05 - precision: 0.9480 - recall: 0.8410 - val_loss: 1.1882 - val_acc: 0.8166 - val_mean_squared_error: 5.3555e-05 - val_precision: 0.8957 - val_recall: 0.7846\n",
            "Epoch 13/15\n",
            "10291/10291 [==============================] - 4s 425us/sample - loss: 0.4545 - acc: 0.8940 - mean_squared_error: 3.1728e-05 - precision: 0.9488 - recall: 0.8520 - val_loss: 1.1938 - val_acc: 0.8166 - val_mean_squared_error: 5.3764e-05 - val_precision: 0.8953 - val_recall: 0.7867\n",
            "Epoch 14/15\n",
            "10291/10291 [==============================] - 4s 425us/sample - loss: 0.4154 - acc: 0.9025 - mean_squared_error: 2.9501e-05 - precision: 0.9509 - recall: 0.8635 - val_loss: 1.1971 - val_acc: 0.8161 - val_mean_squared_error: 5.3590e-05 - val_precision: 0.8931 - val_recall: 0.7869\n",
            "Epoch 15/15\n",
            "10291/10291 [==============================] - 4s 423us/sample - loss: 0.3867 - acc: 0.9083 - mean_squared_error: 2.7775e-05 - precision: 0.9535 - recall: 0.8724 - val_loss: 1.2117 - val_acc: 0.8151 - val_mean_squared_error: 5.4231e-05 - val_precision: 0.8892 - val_recall: 0.7895\n"
          ],
          "name": "stdout"
        },
        {
          "output_type": "execute_result",
          "data": {
            "text/plain": [
              "<tensorflow.python.keras.callbacks.History at 0x7f6cec8a0908>"
            ]
          },
          "metadata": {
            "tags": []
          },
          "execution_count": 69
        }
      ]
    },
    {
      "cell_type": "code",
      "metadata": {
        "colab": {
          "base_uri": "https://localhost:8080/"
        },
        "id": "UjapHrel-XV3",
        "outputId": "9398bcc0-053a-48f8-fb7e-613da9b6e301"
      },
      "source": [
        "l,acc,mse,p,r=embeded_model.evaluate(te_x,test_y)\n",
        "print(\"Embedded model loss for testing set:{}\".format(l))\n",
        "print(\"Embedded model accuracy for testing set:{}\".format(acc))\n",
        "print(\"Embedded model MSE for testing set:{}\".format(mse))\n",
        "print(\"Embedded model precision for testing set:{}\".format(p))\n",
        "print(\"Embedded model recall for testing set:{}\".format(r))\n",
        "print(\"Embedded model f1_score for testing set:{}\".format((2*p*r)/(p+r)))\n"
      ],
      "execution_count": 70,
      "outputs": [
        {
          "output_type": "stream",
          "text": [
            "1485/1485 [==============================] - 1s 381us/sample - loss: 1.1935 - acc: 0.8192 - mean_squared_error: 5.4272e-05 - precision: 0.8893 - recall: 0.7891\n",
            "Embedded model loss for testing set:1.1935346513886242\n",
            "Embedded model accuracy for testing set:0.8191660046577454\n",
            "Embedded model MSE for testing set:5.42717389180325e-05\n",
            "Embedded model precision for testing set:0.889258623123169\n",
            "Embedded model recall for testing set:0.789070188999176\n",
            "Embedded model f1_score for testing set:0.836174043689984\n"
          ],
          "name": "stdout"
        }
      ]
    },
    {
      "cell_type": "code",
      "metadata": {
        "id": "jS2mEhvO-0kE",
        "colab": {
          "base_uri": "https://localhost:8080/",
          "height": 35
        },
        "outputId": "1f030581-4ca2-45e5-c18e-f0612b42e03e"
      },
      "source": [
        "translate(\"I am so small\",embeded_model,True)"
      ],
      "execution_count": 79,
      "outputs": [
        {
          "output_type": "execute_result",
          "data": {
            "application/vnd.google.colaboratory.intrinsic+json": {
              "type": "string"
            },
            "text/plain": [
              "'ich bin so klein . '"
            ]
          },
          "metadata": {
            "tags": []
          },
          "execution_count": 79
        }
      ]
    },
    {
      "cell_type": "code",
      "metadata": {
        "id": "GtRyMtkgul-z"
      },
      "source": [
        ""
      ],
      "execution_count": null,
      "outputs": []
    },
    {
      "cell_type": "code",
      "metadata": {
        "id": "hvwRH3HrGZkf"
      },
      "source": [
        ""
      ],
      "execution_count": null,
      "outputs": []
    },
    {
      "cell_type": "code",
      "metadata": {
        "id": "ZPTRowYDGhwJ"
      },
      "source": [
        ""
      ],
      "execution_count": null,
      "outputs": []
    }
  ]
}
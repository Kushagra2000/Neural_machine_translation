{
  "nbformat": 4,
  "nbformat_minor": 0,
  "metadata": {
    "colab": {
      "name": "Machine_translation.ipynb",
      "provenance": [],
      "authorship_tag": "ABX9TyOV6WnFjACvdRgy/6XkDtXa",
      "include_colab_link": true
    },
    "kernelspec": {
      "name": "python3",
      "display_name": "Python 3"
    }
  },
  "cells": [
    {
      "cell_type": "markdown",
      "metadata": {
        "id": "view-in-github",
        "colab_type": "text"
      },
      "source": [
        "<a href=\"https://colab.research.google.com/github/Kushagra2000/Neural_machine_translation/blob/main/Machine_translation.ipynb\" target=\"_parent\"><img src=\"https://colab.research.google.com/assets/colab-badge.svg\" alt=\"Open In Colab\"/></a>"
      ]
    },
    {
      "cell_type": "code",
      "metadata": {
        "colab": {
          "base_uri": "https://localhost:8080/"
        },
        "id": "a_wTnIFR8vNu",
        "outputId": "6bb4a034-807f-469e-dd0d-2dffb247c8d4"
      },
      "source": [
        "#imports\n",
        "%tensorflow_version 1.x\n",
        "import tensorflow as tf\n",
        "print(tf.__version__)\n",
        "import pandas as pd\n",
        "import numpy as np\n",
        "import re"
      ],
      "execution_count": 1,
      "outputs": [
        {
          "output_type": "stream",
          "text": [
            "TensorFlow 1.x selected.\n",
            "1.15.2\n"
          ],
          "name": "stdout"
        }
      ]
    },
    {
      "cell_type": "code",
      "metadata": {
        "colab": {
          "base_uri": "https://localhost:8080/"
        },
        "id": "5eacpqiV9DTc",
        "outputId": "d0020bf6-4d12-4951-a35d-bdbfb6df1e50"
      },
      "source": [
        "#Upload the deu.txt file and put it in the Data Folder\n",
        "!ls Data/"
      ],
      "execution_count": 2,
      "outputs": [
        {
          "output_type": "stream",
          "text": [
            "deu.txt\n"
          ],
          "name": "stdout"
        }
      ]
    },
    {
      "cell_type": "code",
      "metadata": {
        "id": "Pjnci4B5Aywh"
      },
      "source": [
        "#reading lines from thge txt file\n",
        "with open('Data/deu.txt','r') as f:\n",
        "  lines=(f.readlines())"
      ],
      "execution_count": 3,
      "outputs": []
    },
    {
      "cell_type": "code",
      "metadata": {
        "id": "WSnn6gGCBEy5"
      },
      "source": [
        "#removing the unnecessary data and obtaining sentence pairs \n",
        "def process_text(lines):\n",
        "  ''' \n",
        "  Takes a list of tab seperated\n",
        "  English and German sentences as input \n",
        "  and returns list of \n",
        "  English and German sentence pairs\n",
        "  '''\n",
        "  proc_lines=[]\n",
        "  for line in lines:\n",
        "    line=line.strip() #to remove newlines at the end of a sentence\n",
        "    line=line.split(\"\\t\") #splitting by tabs\n",
        "    line=line[:-1]  #remove contributing information\n",
        "\n",
        "    line[0]=re.sub(r\"([.,?!])\",r\" \\1 \",line[0])   #adding spaces before and after punctuation\n",
        "    line[0]=re.sub(r\"[ ]+\",r\" \",line[0])  #removing excess spaces\n",
        "    line[0]=line[0].strip() #removing spaces from the end of string\n",
        "    line[0]=\"<SOS> \"+line[0]+\" <EOS>\"\n",
        "\n",
        "    line[1]=re.sub(r\"([.,?!])\",r\" \\1 \",line[1])\n",
        "    line[1]=re.sub(r\"[ ]+\",r\" \",line[1])\n",
        "    line[1]=line[1].strip()\n",
        "    line[1]=\"<SOS> \"+line[1]+\" <EOS>\"\n",
        "\n",
        "    proc_lines.append(line) \n",
        "  return pd.DataFrame.from_records(data=proc_lines,columns=['eng','ger']) "
      ],
      "execution_count": 7,
      "outputs": []
    },
    {
      "cell_type": "code",
      "metadata": {
        "colab": {
          "base_uri": "https://localhost:8080/",
          "height": 363
        },
        "id": "vWgVr4xOBK33",
        "outputId": "546260b0-0be4-47d7-8080-4a4465543e52"
      },
      "source": [
        "df=process_text(lines)\n",
        "df.head(10)\n"
      ],
      "execution_count": 10,
      "outputs": [
        {
          "output_type": "execute_result",
          "data": {
            "text/html": [
              "<div>\n",
              "<style scoped>\n",
              "    .dataframe tbody tr th:only-of-type {\n",
              "        vertical-align: middle;\n",
              "    }\n",
              "\n",
              "    .dataframe tbody tr th {\n",
              "        vertical-align: top;\n",
              "    }\n",
              "\n",
              "    .dataframe thead th {\n",
              "        text-align: right;\n",
              "    }\n",
              "</style>\n",
              "<table border=\"1\" class=\"dataframe\">\n",
              "  <thead>\n",
              "    <tr style=\"text-align: right;\">\n",
              "      <th></th>\n",
              "      <th>eng</th>\n",
              "      <th>ger</th>\n",
              "    </tr>\n",
              "  </thead>\n",
              "  <tbody>\n",
              "    <tr>\n",
              "      <th>0</th>\n",
              "      <td>&lt;SOS&gt; Go . &lt;EOS&gt;</td>\n",
              "      <td>&lt;SOS&gt; Geh . &lt;EOS&gt;</td>\n",
              "    </tr>\n",
              "    <tr>\n",
              "      <th>1</th>\n",
              "      <td>&lt;SOS&gt; Hi . &lt;EOS&gt;</td>\n",
              "      <td>&lt;SOS&gt; Hallo ! &lt;EOS&gt;</td>\n",
              "    </tr>\n",
              "    <tr>\n",
              "      <th>2</th>\n",
              "      <td>&lt;SOS&gt; Hi . &lt;EOS&gt;</td>\n",
              "      <td>&lt;SOS&gt; Grüß Gott ! &lt;EOS&gt;</td>\n",
              "    </tr>\n",
              "    <tr>\n",
              "      <th>3</th>\n",
              "      <td>&lt;SOS&gt; Run ! &lt;EOS&gt;</td>\n",
              "      <td>&lt;SOS&gt; Lauf ! &lt;EOS&gt;</td>\n",
              "    </tr>\n",
              "    <tr>\n",
              "      <th>4</th>\n",
              "      <td>&lt;SOS&gt; Run . &lt;EOS&gt;</td>\n",
              "      <td>&lt;SOS&gt; Lauf ! &lt;EOS&gt;</td>\n",
              "    </tr>\n",
              "    <tr>\n",
              "      <th>5</th>\n",
              "      <td>&lt;SOS&gt; Wow ! &lt;EOS&gt;</td>\n",
              "      <td>&lt;SOS&gt; Potzdonner ! &lt;EOS&gt;</td>\n",
              "    </tr>\n",
              "    <tr>\n",
              "      <th>6</th>\n",
              "      <td>&lt;SOS&gt; Wow ! &lt;EOS&gt;</td>\n",
              "      <td>&lt;SOS&gt; Donnerwetter ! &lt;EOS&gt;</td>\n",
              "    </tr>\n",
              "    <tr>\n",
              "      <th>7</th>\n",
              "      <td>&lt;SOS&gt; Fire ! &lt;EOS&gt;</td>\n",
              "      <td>&lt;SOS&gt; Feuer ! &lt;EOS&gt;</td>\n",
              "    </tr>\n",
              "    <tr>\n",
              "      <th>8</th>\n",
              "      <td>&lt;SOS&gt; Help ! &lt;EOS&gt;</td>\n",
              "      <td>&lt;SOS&gt; Hilfe ! &lt;EOS&gt;</td>\n",
              "    </tr>\n",
              "    <tr>\n",
              "      <th>9</th>\n",
              "      <td>&lt;SOS&gt; Help ! &lt;EOS&gt;</td>\n",
              "      <td>&lt;SOS&gt; Zu Hülf ! &lt;EOS&gt;</td>\n",
              "    </tr>\n",
              "  </tbody>\n",
              "</table>\n",
              "</div>"
            ],
            "text/plain": [
              "                  eng                         ger\n",
              "0    <SOS> Go . <EOS>           <SOS> Geh . <EOS>\n",
              "1    <SOS> Hi . <EOS>         <SOS> Hallo ! <EOS>\n",
              "2    <SOS> Hi . <EOS>     <SOS> Grüß Gott ! <EOS>\n",
              "3   <SOS> Run ! <EOS>          <SOS> Lauf ! <EOS>\n",
              "4   <SOS> Run . <EOS>          <SOS> Lauf ! <EOS>\n",
              "5   <SOS> Wow ! <EOS>    <SOS> Potzdonner ! <EOS>\n",
              "6   <SOS> Wow ! <EOS>  <SOS> Donnerwetter ! <EOS>\n",
              "7  <SOS> Fire ! <EOS>         <SOS> Feuer ! <EOS>\n",
              "8  <SOS> Help ! <EOS>         <SOS> Hilfe ! <EOS>\n",
              "9  <SOS> Help ! <EOS>       <SOS> Zu Hülf ! <EOS>"
            ]
          },
          "metadata": {
            "tags": []
          },
          "execution_count": 10
        }
      ]
    },
    {
      "cell_type": "code",
      "metadata": {
        "id": "zctawZ8xGF_R"
      },
      "source": [
        "class Vocab_builder():\n",
        "  def __init__(self,lang,series):\n",
        "    self.lang=lang\n",
        "    self.data=series\n",
        "  def tokenize(self,line):\n",
        "    return line.split(' ')\n",
        "  def build_vocab(self):\n",
        "    self.uniq_words=set()\n",
        "    count=0\n",
        "    self.num_list=[]\n",
        "    for index,line in self.data.items():\n",
        "      self.word_list=tokenize(line)\n",
        "      for word in self.word_list:\n",
        "        if(word not in uniq_words):\n",
        "          uniq_words.add(word)\n",
        "          num_list.append(count)\n",
        "          count+=1\n",
        "      \n",
        "    vocab_list=list(uniq_words)\n",
        "    print(\"Built vocabulary having {} elements\".format(len(vocab_list)))\n",
        "    return zip(vocab_list,num_list)\n",
        "\n",
        "\n",
        "\n",
        "\n"
      ],
      "execution_count": 11,
      "outputs": []
    },
    {
      "cell_type": "code",
      "metadata": {
        "id": "0JVuh6iKohIC"
      },
      "source": [
        ""
      ],
      "execution_count": null,
      "outputs": []
    }
  ]
}
{
  "nbformat": 4,
  "nbformat_minor": 0,
  "metadata": {
    "colab": {
      "name": "Machine_translation.ipynb",
      "provenance": [],
      "mount_file_id": "1-4K2HI3_RBvxi7ln2M30dSS8qpHvCFTH",
      "authorship_tag": "ABX9TyNWc04prPykcBkLZSsGXFG5",
      "include_colab_link": true
    },
    "kernelspec": {
      "name": "python3",
      "display_name": "Python 3"
    },
    "accelerator": "GPU"
  },
  "cells": [
    {
      "cell_type": "markdown",
      "metadata": {
        "id": "view-in-github",
        "colab_type": "text"
      },
      "source": [
        "<a href=\"https://colab.research.google.com/github/Kushagra2000/Neural_machine_translation/blob/main/Machine_translation.ipynb\" target=\"_parent\"><img src=\"https://colab.research.google.com/assets/colab-badge.svg\" alt=\"Open In Colab\"/></a>"
      ]
    },
    {
      "cell_type": "code",
      "metadata": {
        "colab": {
          "base_uri": "https://localhost:8080/",
          "height": 53
        },
        "id": "a_wTnIFR8vNu",
        "outputId": "10744055-01b1-4cfc-ad72-803f20deb6a4"
      },
      "source": [
        "#imports\n",
        "%tensorflow_version 1.x\n",
        "print(tf.__version__)\n",
        "import tensorflow as tf\n",
        "from tensorflow import keras\n",
        "import pandas as pd\n",
        "import numpy as np\n",
        "import re\n",
        "import unicodedata\n",
        "from sklearn.model_selection import train_test_split\n",
        "from tensorflow.keras.layers import LSTM, Dense, TimeDistributed, Activation,InputLayer,Embedding\n",
        "from tensorflow.keras.losses import sparse_categorical_crossentropy\n",
        "from tensorflow.keras.models import Model\n",
        "from tensorflow.keras.optimizers import Adam\n",
        "# !pip install -q -U keras-tuner\n",
        "# import kerastuner as kt \n",
        "import IPython\n",
        "\n",
        "tf.test.gpu_device_name()"
      ],
      "execution_count": 2,
      "outputs": [
        {
          "output_type": "stream",
          "text": [
            "1.15.2\n"
          ],
          "name": "stdout"
        },
        {
          "output_type": "execute_result",
          "data": {
            "application/vnd.google.colaboratory.intrinsic+json": {
              "type": "string"
            },
            "text/plain": [
              "'/device:GPU:0'"
            ]
          },
          "metadata": {
            "tags": []
          },
          "execution_count": 2
        }
      ]
    },
    {
      "cell_type": "code",
      "metadata": {
        "id": "5eacpqiV9DTc"
      },
      "source": [
        "#Upload the deu.txt file and put it in the Data Folder\n",
        "#!ls Data/"
      ],
      "execution_count": 3,
      "outputs": []
    },
    {
      "cell_type": "code",
      "metadata": {
        "id": "Pjnci4B5Aywh"
      },
      "source": [
        "#reading lines from the txt file\n",
        "with open('drive/MyDrive/deu.txt','r',encoding='utf-8') as f:\n",
        "  lines=(f.readlines())\n"
      ],
      "execution_count": 4,
      "outputs": []
    },
    {
      "cell_type": "code",
      "metadata": {
        "id": "_zDt6gkPfKhs"
      },
      "source": [
        "#Hyperparameters go here\n",
        "num_examples=15000\n",
        "test_size=0.3\n",
        "m1_lr=0.001\n",
        "m2_lr=0.005\n",
        "m1_lstm_units=64\n",
        "m2_lstm_units=64\n",
        "m1_epochs=25\n",
        "m2_epochs=30\n",
        "m1_batch_size=128\n",
        "m2_batch_size=128\n",
        "m2_embedding_col=64"
      ],
      "execution_count": 5,
      "outputs": []
    },
    {
      "cell_type": "code",
      "metadata": {
        "id": "WSnn6gGCBEy5"
      },
      "source": [
        "#removing the unnecessary data and obtaining sentence pairs \n",
        "def process_text(lines,translate_mode):\n",
        "  ''' \n",
        "  Takes a list of tab seperated\n",
        "  English and German sentences as input \n",
        "  and returns dataframe of processed\n",
        "  English and German sentence pairs\n",
        "  '''\n",
        "  proc_lines=[]\n",
        "  if translate_mode==False:\n",
        "    for line in lines:\n",
        "      line=line.strip() #to remove newlines at the end of a sentence\n",
        "      line=line.split(\"\\t\") #splitting by tabs\n",
        "      line=line[:-1]  #remove contributing information\n",
        "      \n",
        "      line[0]=''.join(c for c in unicodedata.normalize('NFD', line[0]) if unicodedata.category(c) != 'Mn')\n",
        "      line[0]=line[0].encode('utf8','ignore').decode('utf8')\n",
        "      line[0]=line[0].replace(u'\\u200b',' ')\n",
        "      line[0]=line[0].lower()\n",
        "      line[0]=line[0].replace('\\xa0', ' ')\n",
        "      line[0]=re.sub(r\"([.,?!;])\",r\" \\1 \",line[0])   #adding spaces before and after punctuation\n",
        "      line[0]=re.sub(r\"[0-9]\",\" \",line[0])  #removing numbers\n",
        "      line[0]=re.sub(r'[\"]',\" \",line[0])  #removing quotes\n",
        "      line[0]=re.sub(r\"[']\",\"\",line[0])\n",
        "      line[0]=re.sub(r\"[%-,]\",\" \",line[0])\n",
        "      line[0]=re.sub(r\"[:]\",\" \",line[0])\n",
        "      line[0]=re.sub(r'[\" \"]+',\" \",line[0])  #removing excess spaces\n",
        "      line[0]=line[0].strip() #removing spaces from the end of string\n",
        "      line[0]=\"<SOS> \"+line[0]+\" <EOS>\"\n",
        "\n",
        "      line[1]=''.join(c for c in unicodedata.normalize('NFD', line[1]) if unicodedata.category(c) != 'Mn')      \n",
        "      line[1]=line[1].replace(u'\\u200b',' ')\n",
        "      line[1]=line[1].replace('\\xa0', ' ')\n",
        "      line[1]=line[1].lower()\n",
        "      line[1]=re.sub(r\"([.,?!;])\",r\" \\1 \",line[1])\n",
        "      line[1]=re.sub(r\"[0-9]\",r\" \",line[1])\n",
        "      line[1]=re.sub(r'[\"]',\"\",line[1])\n",
        "      line[1]=re.sub(r'[—]',\"\",line[1])\n",
        "      line[1]=re.sub(r'[„]',\"\",line[1])\n",
        "      line[1]=re.sub(r'[“]',\"\",line[1])\n",
        "      line[1]=re.sub(r'[–]',\"\",line[1])\n",
        "      line[1]=re.sub(r'[‘‚]',\"\",line[1])\n",
        "      line[1]=re.sub(r\"[']\",\"\",line[1])\n",
        "      line[1]=re.sub(r\"[%()-,]\",\" \",line[1])\n",
        "      line[1]=re.sub(r\"[:]\",\" \",line[1])\n",
        "      line[1]=re.sub(r'[\" \"]+',\" \",line[1])\n",
        "      line[1]=line[1].strip()\n",
        "      line[1]=\"<SOS> \"+line[1]+\" <EOS>\"\n",
        "\n",
        "      proc_lines.append(line) \n",
        "    return pd.DataFrame.from_records(data=proc_lines,columns=['eng','ger'])\n",
        "  else:\n",
        "    lines=lines.strip()\n",
        "    lines=''.join(c for c in unicodedata.normalize('NFD', lines) if unicodedata.category(c) != 'Mn')\n",
        "    lines=lines.encode('utf8','ignore').decode('utf8')\n",
        "    lines=lines.replace(u'\\u200b',' ')\n",
        "    lines=lines.lower()\n",
        "    lines=lines.replace('\\xa0', ' ')\n",
        "    lines=re.sub(r\"([.,?!;])\",r\" \\1 \",lines)   #adding spaces before and after punctuation\n",
        "    lines=re.sub(r\"[0-9]\",\" \",lines)\n",
        "    lines=re.sub(r'[\"]',\" \",lines)\n",
        "    lines=re.sub(r\"[']\",\"\",lines)\n",
        "    lines=re.sub(r\"[%-,]\",\" \",lines)\n",
        "    lines=re.sub(r\"[:]\",\" \",lines)\n",
        "    lines=re.sub(r'[\" \"]+',\" \",lines)  #removing excess spaces\n",
        "    lines=lines.strip() #removing spaces from the end of string\n",
        "    lines=\"<SOS> \"+lines+\" <EOS>\"\n",
        "    return lines\n",
        "\n",
        "  \n",
        "     \n",
        "  "
      ],
      "execution_count": 7,
      "outputs": []
    },
    {
      "cell_type": "code",
      "metadata": {
        "colab": {
          "base_uri": "https://localhost:8080/",
          "height": 363
        },
        "id": "vWgVr4xOBK33",
        "outputId": "ed8baf24-ff1c-4576-c319-80a6fd6b58cb"
      },
      "source": [
        "#reading in the dataset, sampling randomly, shuffling and removing duplicates \n",
        "df=process_text(lines,False)\n",
        "df=df.sample(n=num_examples, random_state=1)\n",
        "df.drop_duplicates(subset=\"eng\",inplace=True)\n",
        "df = df.sample(frac=1).reset_index(drop=True)\n",
        "df.head(10)"
      ],
      "execution_count": 8,
      "outputs": [
        {
          "output_type": "execute_result",
          "data": {
            "text/html": [
              "<div>\n",
              "<style scoped>\n",
              "    .dataframe tbody tr th:only-of-type {\n",
              "        vertical-align: middle;\n",
              "    }\n",
              "\n",
              "    .dataframe tbody tr th {\n",
              "        vertical-align: top;\n",
              "    }\n",
              "\n",
              "    .dataframe thead th {\n",
              "        text-align: right;\n",
              "    }\n",
              "</style>\n",
              "<table border=\"1\" class=\"dataframe\">\n",
              "  <thead>\n",
              "    <tr style=\"text-align: right;\">\n",
              "      <th></th>\n",
              "      <th>eng</th>\n",
              "      <th>ger</th>\n",
              "    </tr>\n",
              "  </thead>\n",
              "  <tbody>\n",
              "    <tr>\n",
              "      <th>0</th>\n",
              "      <td>&lt;SOS&gt; tom wont let mary drive . &lt;EOS&gt;</td>\n",
              "      <td>&lt;SOS&gt; tom lasst maria nicht ans steuer . &lt;EOS&gt;</td>\n",
              "    </tr>\n",
              "    <tr>\n",
              "      <th>1</th>\n",
              "      <td>&lt;SOS&gt; do you like doing that ? &lt;EOS&gt;</td>\n",
              "      <td>&lt;SOS&gt; macht ihr das gerne ? &lt;EOS&gt;</td>\n",
              "    </tr>\n",
              "    <tr>\n",
              "      <th>2</th>\n",
              "      <td>&lt;SOS&gt; tom and mary are creative . &lt;EOS&gt;</td>\n",
              "      <td>&lt;SOS&gt; tom und maria sind kreativ . &lt;EOS&gt;</td>\n",
              "    </tr>\n",
              "    <tr>\n",
              "      <th>3</th>\n",
              "      <td>&lt;SOS&gt; youll need money . &lt;EOS&gt;</td>\n",
              "      <td>&lt;SOS&gt; sie werden geld brauchen . &lt;EOS&gt;</td>\n",
              "    </tr>\n",
              "    <tr>\n",
              "      <th>4</th>\n",
              "      <td>&lt;SOS&gt; the firemen battered down the door . &lt;EOS&gt;</td>\n",
              "      <td>&lt;SOS&gt; die feuerwehrmanner schlugen die tur ein...</td>\n",
              "    </tr>\n",
              "    <tr>\n",
              "      <th>5</th>\n",
              "      <td>&lt;SOS&gt; this dam supplies us with water and elec...</td>\n",
              "      <td>&lt;SOS&gt; dieser damm liefert uns wasser und strom...</td>\n",
              "    </tr>\n",
              "    <tr>\n",
              "      <th>6</th>\n",
              "      <td>&lt;SOS&gt; tom and mary are jealous . &lt;EOS&gt;</td>\n",
              "      <td>&lt;SOS&gt; tom und maria sind eifersuchtig . &lt;EOS&gt;</td>\n",
              "    </tr>\n",
              "    <tr>\n",
              "      <th>7</th>\n",
              "      <td>&lt;SOS&gt; i actually did that yesterday . &lt;EOS&gt;</td>\n",
              "      <td>&lt;SOS&gt; das habe ich gestern schon gemacht . &lt;EOS&gt;</td>\n",
              "    </tr>\n",
              "    <tr>\n",
              "      <th>8</th>\n",
              "      <td>&lt;SOS&gt; this soup is too thin for me . &lt;EOS&gt;</td>\n",
              "      <td>&lt;SOS&gt; diese suppe ist mir zu dunn . &lt;EOS&gt;</td>\n",
              "    </tr>\n",
              "    <tr>\n",
              "      <th>9</th>\n",
              "      <td>&lt;SOS&gt; he turned on the radio . &lt;EOS&gt;</td>\n",
              "      <td>&lt;SOS&gt; er schaltete das radio ein . &lt;EOS&gt;</td>\n",
              "    </tr>\n",
              "  </tbody>\n",
              "</table>\n",
              "</div>"
            ],
            "text/plain": [
              "                                                 eng                                                ger\n",
              "0              <SOS> tom wont let mary drive . <EOS>     <SOS> tom lasst maria nicht ans steuer . <EOS>\n",
              "1               <SOS> do you like doing that ? <EOS>                  <SOS> macht ihr das gerne ? <EOS>\n",
              "2            <SOS> tom and mary are creative . <EOS>           <SOS> tom und maria sind kreativ . <EOS>\n",
              "3                     <SOS> youll need money . <EOS>             <SOS> sie werden geld brauchen . <EOS>\n",
              "4   <SOS> the firemen battered down the door . <EOS>  <SOS> die feuerwehrmanner schlugen die tur ein...\n",
              "5  <SOS> this dam supplies us with water and elec...  <SOS> dieser damm liefert uns wasser und strom...\n",
              "6             <SOS> tom and mary are jealous . <EOS>      <SOS> tom und maria sind eifersuchtig . <EOS>\n",
              "7        <SOS> i actually did that yesterday . <EOS>   <SOS> das habe ich gestern schon gemacht . <EOS>\n",
              "8         <SOS> this soup is too thin for me . <EOS>          <SOS> diese suppe ist mir zu dunn . <EOS>\n",
              "9               <SOS> he turned on the radio . <EOS>           <SOS> er schaltete das radio ein . <EOS>"
            ]
          },
          "metadata": {
            "tags": []
          },
          "execution_count": 8
        }
      ]
    },
    {
      "cell_type": "code",
      "metadata": {
        "colab": {
          "base_uri": "https://localhost:8080/",
          "height": 363
        },
        "id": "DNmFdtxhtnjz",
        "outputId": "ab5f6177-393a-46cc-f87f-251b3551b272"
      },
      "source": [
        "df.tail(10)"
      ],
      "execution_count": 9,
      "outputs": [
        {
          "output_type": "execute_result",
          "data": {
            "text/html": [
              "<div>\n",
              "<style scoped>\n",
              "    .dataframe tbody tr th:only-of-type {\n",
              "        vertical-align: middle;\n",
              "    }\n",
              "\n",
              "    .dataframe tbody tr th {\n",
              "        vertical-align: top;\n",
              "    }\n",
              "\n",
              "    .dataframe thead th {\n",
              "        text-align: right;\n",
              "    }\n",
              "</style>\n",
              "<table border=\"1\" class=\"dataframe\">\n",
              "  <thead>\n",
              "    <tr style=\"text-align: right;\">\n",
              "      <th></th>\n",
              "      <th>eng</th>\n",
              "      <th>ger</th>\n",
              "    </tr>\n",
              "  </thead>\n",
              "  <tbody>\n",
              "    <tr>\n",
              "      <th>14706</th>\n",
              "      <td>&lt;SOS&gt; i didnt mean to make tom cry . &lt;EOS&gt;</td>\n",
              "      <td>&lt;SOS&gt; ich wollte tom nicht zum weinen bringen ...</td>\n",
              "    </tr>\n",
              "    <tr>\n",
              "      <th>14707</th>\n",
              "      <td>&lt;SOS&gt; i want to know why youre here . &lt;EOS&gt;</td>\n",
              "      <td>&lt;SOS&gt; ich mochte wissen warum du hier bist . &lt;...</td>\n",
              "    </tr>\n",
              "    <tr>\n",
              "      <th>14708</th>\n",
              "      <td>&lt;SOS&gt; you are as tall as i am . &lt;EOS&gt;</td>\n",
              "      <td>&lt;SOS&gt; sie sind so groß wie ich es bin . &lt;EOS&gt;</td>\n",
              "    </tr>\n",
              "    <tr>\n",
              "      <th>14709</th>\n",
              "      <td>&lt;SOS&gt; we have something in common . &lt;EOS&gt;</td>\n",
              "      <td>&lt;SOS&gt; wir haben eine gemeinsamkeit . &lt;EOS&gt;</td>\n",
              "    </tr>\n",
              "    <tr>\n",
              "      <th>14710</th>\n",
              "      <td>&lt;SOS&gt; were a little older . &lt;EOS&gt;</td>\n",
              "      <td>&lt;SOS&gt; wir sind ein bisschen alter . &lt;EOS&gt;</td>\n",
              "    </tr>\n",
              "    <tr>\n",
              "      <th>14711</th>\n",
              "      <td>&lt;SOS&gt; we happened to get on the same bus . &lt;EOS&gt;</td>\n",
              "      <td>&lt;SOS&gt; wir sind zufallig in denselben bus einge...</td>\n",
              "    </tr>\n",
              "    <tr>\n",
              "      <th>14712</th>\n",
              "      <td>&lt;SOS&gt; when was the last time you watched a mov...</td>\n",
              "      <td>&lt;SOS&gt; wann hast du dir das letzte mal einen fi...</td>\n",
              "    </tr>\n",
              "    <tr>\n",
              "      <th>14713</th>\n",
              "      <td>&lt;SOS&gt; ill bring it to you tomorrow . &lt;EOS&gt;</td>\n",
              "      <td>&lt;SOS&gt; ich bringe es euch morgen . &lt;EOS&gt;</td>\n",
              "    </tr>\n",
              "    <tr>\n",
              "      <th>14714</th>\n",
              "      <td>&lt;SOS&gt; whats happened to your eye ? &lt;EOS&gt;</td>\n",
              "      <td>&lt;SOS&gt; was ist mit deinem auge passiert ? &lt;EOS&gt;</td>\n",
              "    </tr>\n",
              "    <tr>\n",
              "      <th>14715</th>\n",
              "      <td>&lt;SOS&gt; did tom say why ? &lt;EOS&gt;</td>\n",
              "      <td>&lt;SOS&gt; hat tom gesagt warum ? &lt;EOS&gt;</td>\n",
              "    </tr>\n",
              "  </tbody>\n",
              "</table>\n",
              "</div>"
            ],
            "text/plain": [
              "                                                     eng                                                ger\n",
              "14706         <SOS> i didnt mean to make tom cry . <EOS>  <SOS> ich wollte tom nicht zum weinen bringen ...\n",
              "14707        <SOS> i want to know why youre here . <EOS>  <SOS> ich mochte wissen warum du hier bist . <...\n",
              "14708              <SOS> you are as tall as i am . <EOS>      <SOS> sie sind so groß wie ich es bin . <EOS>\n",
              "14709          <SOS> we have something in common . <EOS>         <SOS> wir haben eine gemeinsamkeit . <EOS>\n",
              "14710                  <SOS> were a little older . <EOS>          <SOS> wir sind ein bisschen alter . <EOS>\n",
              "14711   <SOS> we happened to get on the same bus . <EOS>  <SOS> wir sind zufallig in denselben bus einge...\n",
              "14712  <SOS> when was the last time you watched a mov...  <SOS> wann hast du dir das letzte mal einen fi...\n",
              "14713         <SOS> ill bring it to you tomorrow . <EOS>            <SOS> ich bringe es euch morgen . <EOS>\n",
              "14714           <SOS> whats happened to your eye ? <EOS>     <SOS> was ist mit deinem auge passiert ? <EOS>\n",
              "14715                      <SOS> did tom say why ? <EOS>                 <SOS> hat tom gesagt warum ? <EOS>"
            ]
          },
          "metadata": {
            "tags": []
          },
          "execution_count": 9
        }
      ]
    },
    {
      "cell_type": "code",
      "metadata": {
        "id": "zctawZ8xGF_R"
      },
      "source": [
        "class Vocab_builder():\n",
        "  '''\n",
        "  Builds vocabulary and \n",
        "  word to index and index to word dictionaries\n",
        "  from dataset\n",
        "  '''\n",
        "  def __init__(self,lang,series):\n",
        "    self.lang=lang\n",
        "    self.data=series\n",
        "  def tokenize(self,line):\n",
        "    return line.split(' ')\n",
        "  def build_vocab(self):\n",
        "    self.uniq_words=set()\n",
        "    \n",
        "    self.maxlen=0\n",
        "    count=3\n",
        "    self.num_list=[]\n",
        "    for index,line in self.data.items():\n",
        "      self.word_list=self.tokenize(line)\n",
        "      self.maxlen=max(len(self.word_list),self.maxlen)\n",
        "      for word in self.word_list:\n",
        "        if(word not in self.uniq_words and word!='<EOS>' and word!='<SOS>'):\n",
        "          self.uniq_words.add(word)\n",
        "          self.num_list.append(count)\n",
        "          count+=1\n",
        "      \n",
        "    self.vocab_list=['<PAD>','<SOS>','<EOS>']+sorted(list(self.uniq_words))\n",
        "    self.num_list=[0,1,2]+self.num_list\n",
        "    print(\"Built vocabulary having {} elements\".format(len(self.vocab_list)))\n",
        "    print(\"Largest sentence length (with tags):{}\".format(self.maxlen))\n",
        "    return dict(zip(self.vocab_list,self.num_list)),dict(zip(self.num_list,self.vocab_list))\n",
        "\n",
        "\n",
        "\n",
        "\n"
      ],
      "execution_count": 10,
      "outputs": []
    },
    {
      "cell_type": "code",
      "metadata": {
        "id": "0JVuh6iKohIC"
      },
      "source": [
        "#Objects of Vocab_builder class\n",
        "eng=Vocab_builder('eng',df['eng'])\n",
        "ger=Vocab_builder('ger',df['ger'])\n"
      ],
      "execution_count": 11,
      "outputs": []
    },
    {
      "cell_type": "code",
      "metadata": {
        "colab": {
          "base_uri": "https://localhost:8080/"
        },
        "id": "uL4ZAsYizIsd",
        "outputId": "80193e8f-3e89-4f51-bb8e-7a55a4039afa"
      },
      "source": [
        "#English word to index and index to word dictionaries\n",
        "eng_w2i,eng_i2w=eng.build_vocab()\n"
      ],
      "execution_count": 12,
      "outputs": [
        {
          "output_type": "stream",
          "text": [
            "Built vocabulary having 5903 elements\n",
            "Largest sentence length (with tags):31\n"
          ],
          "name": "stdout"
        }
      ]
    },
    {
      "cell_type": "code",
      "metadata": {
        "colab": {
          "base_uri": "https://localhost:8080/"
        },
        "id": "TsH4pLi3zOcS",
        "outputId": "5caa65a5-5e6f-4c30-9dab-eb5f8449766e"
      },
      "source": [
        "#checking for special characters in English dictionary\n",
        "for i in sorted (eng_w2i.keys())[:20] :  \n",
        "     print(i, end = \" \") "
      ],
      "execution_count": 13,
      "outputs": [
        {
          "output_type": "stream",
          "text": [
            "! $ -to- . ; <EOS> <PAD> <SOS> ? a abandon abandoned abducted ability able aboard about above abroad absent "
          ],
          "name": "stdout"
        }
      ]
    },
    {
      "cell_type": "code",
      "metadata": {
        "id": "eWE4mEkcMF2T",
        "colab": {
          "base_uri": "https://localhost:8080/"
        },
        "outputId": "2f4e57e3-e7d6-46e1-a3ed-ad62ff3ee960"
      },
      "source": [
        "#German word to index and index to word dictionaries\n",
        "ger_w2i,ger_i2w=ger.build_vocab()"
      ],
      "execution_count": 14,
      "outputs": [
        {
          "output_type": "stream",
          "text": [
            "Built vocabulary having 9004 elements\n",
            "Largest sentence length (with tags):30\n"
          ],
          "name": "stdout"
        }
      ]
    },
    {
      "cell_type": "code",
      "metadata": {
        "colab": {
          "base_uri": "https://localhost:8080/"
        },
        "id": "QDAzP_ePoJK0",
        "outputId": "749b4fb0-fe62-45a6-8680-fdad05135997"
      },
      "source": [
        "#checking if the index dictionaries are correct\n",
        "'geh'==ger_i2w[ger_w2i['geh']]"
      ],
      "execution_count": 15,
      "outputs": [
        {
          "output_type": "execute_result",
          "data": {
            "text/plain": [
              "True"
            ]
          },
          "metadata": {
            "tags": []
          },
          "execution_count": 15
        }
      ]
    },
    {
      "cell_type": "code",
      "metadata": {
        "colab": {
          "base_uri": "https://localhost:8080/"
        },
        "id": "tylnxt3Xoqj3",
        "outputId": "47af6edd-4124-406b-f6e0-5d30d415b8f4"
      },
      "source": [
        "'go'==eng_i2w[eng_w2i['go']]"
      ],
      "execution_count": 16,
      "outputs": [
        {
          "output_type": "execute_result",
          "data": {
            "text/plain": [
              "True"
            ]
          },
          "metadata": {
            "tags": []
          },
          "execution_count": 16
        }
      ]
    },
    {
      "cell_type": "code",
      "metadata": {
        "colab": {
          "base_uri": "https://localhost:8080/"
        },
        "id": "rglyUxdDxD3Z",
        "outputId": "a542863d-6aca-4415-c546-1c17c55bb7ac"
      },
      "source": [
        "#checking for special characters in German dictionary\n",
        "for i in sorted (ger_w2i.keys())[:20] :  \n",
        "     print(i, end = \" \") "
      ],
      "execution_count": 17,
      "outputs": [
        {
          "output_type": "stream",
          "text": [
            "! $ - . ; <EOS> <PAD> <SOS> ? ab abbekommen abbezahlen abbiegen abbringen abend abendbrot abende abendessen abendkleid abendkleider "
          ],
          "name": "stdout"
        }
      ]
    },
    {
      "cell_type": "code",
      "metadata": {
        "id": "HctDyjqmxKuX"
      },
      "source": [
        "def sent_to_ind(sentence,lang):\n",
        "  '''\n",
        "  Tokenizes a string and\n",
        "  converts it to an np array of \n",
        "  indices and pads the \n",
        "  array according to max sentence length\n",
        "  '''\n",
        "  ind_list=[]\n",
        "  if lang=='eng':\n",
        "    tokens=eng.tokenize(sentence)\n",
        "    for token in tokens:\n",
        "      ind_list.append(eng_w2i[token])\n",
        "    while len(ind_list)<max(ger.maxlen,eng.maxlen):\n",
        "      ind_list.append(0)\n",
        "  else:\n",
        "    tokens=ger.tokenize(sentence)\n",
        "    for token in tokens:\n",
        "      ind_list.append(ger_w2i[token])\n",
        "    while len(ind_list)<max(ger.maxlen,eng.maxlen):\n",
        "      ind_list.append(0)\n",
        "    \n",
        "  return np.array(ind_list)\n",
        "\n"
      ],
      "execution_count": 18,
      "outputs": []
    },
    {
      "cell_type": "code",
      "metadata": {
        "colab": {
          "base_uri": "https://localhost:8080/"
        },
        "id": "ix5EpSK3eQod",
        "outputId": "eda09b53-01bd-494a-e10a-e8c57d2e07a7"
      },
      "source": [
        "#Checking correctness of sentence to index conversion\n",
        "test_lis=sent_to_ind('<SOS> tom wird bald hier sein . was heißt bald ? <EOS>','ger')\n",
        "\n",
        "print(len(test_lis))\n",
        "print(test_lis)"
      ],
      "execution_count": 19,
      "outputs": [
        {
          "output_type": "stream",
          "text": [
            "31\n",
            "[   1 7289 8594  760 3778 6624    6 8352 3693  760    8    2    0    0\n",
            "    0    0    0    0    0    0    0    0    0    0    0    0    0    0\n",
            "    0    0    0]\n"
          ],
          "name": "stdout"
        }
      ]
    },
    {
      "cell_type": "code",
      "metadata": {
        "colab": {
          "base_uri": "https://localhost:8080/"
        },
        "id": "YJfhMnYBhXb8",
        "outputId": "299cb8ca-f711-46d8-b551-6f4460691674"
      },
      "source": [
        "test_lis=sent_to_ind(\"<SOS> tom will be here soon . how soon ? <EOS>\",'eng')\n",
        "print(len(test_lis))\n",
        "print(test_lis)"
      ],
      "execution_count": 20,
      "outputs": [
        {
          "output_type": "stream",
          "text": [
            "31\n",
            "[   1 5312 5770  457 2477 4788    6 2570 4788    8    2    0    0    0\n",
            "    0    0    0    0    0    0    0    0    0    0    0    0    0    0\n",
            "    0    0    0]\n"
          ],
          "name": "stdout"
        }
      ]
    },
    {
      "cell_type": "code",
      "metadata": {
        "id": "7VENEOHriC99"
      },
      "source": [
        "#splitting the data into training,testing and validation sets\n",
        "\n",
        "train_x,test_x,train_y,test_y=train_test_split(df['eng'],df['ger'],test_size=0.1,random_state=42)\n",
        "train_x,val_x,train_y,val_y=train_test_split(train_x,train_y,test_size=0.23,random_state=42)\n"
      ],
      "execution_count": 21,
      "outputs": []
    },
    {
      "cell_type": "code",
      "metadata": {
        "id": "NetMWl-AtVvi"
      },
      "source": [
        "def sent_to_np(series,lang,translate_mode):\n",
        "  '''\n",
        "  Converts a dataframe column to \n",
        "  a unsqueezed np array of indexes\n",
        "  with padding for feeding into NN\n",
        "  '''\n",
        "  ret_list=[]\n",
        "  if translate_mode==False :\n",
        "    if lang=='eng':\n",
        "      for index,val in series.items():\n",
        "        ret_list.append(sent_to_ind(val,'eng'))\n",
        "    else:\n",
        "      for index,val in series.items():\n",
        "        ret_list.append(sent_to_ind(val,'ger'))\n",
        "    \n",
        "    ret_list=np.array(ret_list)\n",
        "    return np.expand_dims(ret_list,axis=2)\n",
        "  else:\n",
        "    ans=sent_to_ind(series,'eng')\n",
        "    ans=np.expand_dims(ans,axis=0)\n",
        "    ans=np.expand_dims(ans,axis=2)\n",
        "    return ans\n"
      ],
      "execution_count": 22,
      "outputs": []
    },
    {
      "cell_type": "code",
      "metadata": {
        "id": "BdCHrrTaSqww"
      },
      "source": [
        "train_x=sent_to_np(train_x,'eng',False)\n",
        "train_y=sent_to_np(train_y,'ger',False)\n",
        "test_x=sent_to_np(test_x,'eng',False)\n",
        "test_y=sent_to_np(test_y,'ger',False)\n",
        "val_x=sent_to_np(val_x,'eng',False)\n",
        "val_y=sent_to_np(val_y,'ger',False)\n"
      ],
      "execution_count": 23,
      "outputs": []
    },
    {
      "cell_type": "code",
      "metadata": {
        "id": "NEbhTzocTrYu"
      },
      "source": [
        "#loading training,testing and validation data\n",
        "\n",
        "# train_x=np.load(\"drive/MyDrive/data/training/train_x.npy\")\n",
        "# train_y=np.load(\"drive/MyDrive/data/training/train_y.npy\")\n",
        "\n",
        "# test_x=np.load(\"drive/MyDrive/data/testing/test_x.npy\")\n",
        "# test_y=np.load(\"drive/MyDrive/data/testing/test_y.npy\")\n",
        "\n",
        "# val_x=np.load(\"drive/MyDrive/data/validation/val_x.npy\")\n",
        "# val_y=np.load(\"drive/MyDrive/data/validation/val_y.npy\")\n",
        "\n"
      ],
      "execution_count": 24,
      "outputs": []
    },
    {
      "cell_type": "code",
      "metadata": {
        "colab": {
          "base_uri": "https://localhost:8080/"
        },
        "id": "BDpCjhQZur_O",
        "outputId": "5fd49b46-c5c5-4adb-fbd4-7a634ef57845"
      },
      "source": [
        "# [batch,timesteps,feature]\n",
        "print(train_x.shape)\n",
        "print(train_y.shape)"
      ],
      "execution_count": 25,
      "outputs": [
        {
          "output_type": "stream",
          "text": [
            "(10197, 31, 1)\n",
            "(10197, 31, 1)\n"
          ],
          "name": "stdout"
        }
      ]
    },
    {
      "cell_type": "code",
      "metadata": {
        "colab": {
          "base_uri": "https://localhost:8080/"
        },
        "id": "0Frd_j1wuxz5",
        "outputId": "3a75644e-a4da-4c8e-b8a3-4eeebf3a26b5"
      },
      "source": [
        "print(test_x.shape)\n",
        "print(test_y.shape)"
      ],
      "execution_count": 26,
      "outputs": [
        {
          "output_type": "stream",
          "text": [
            "(1472, 31, 1)\n",
            "(1472, 31, 1)\n"
          ],
          "name": "stdout"
        }
      ]
    },
    {
      "cell_type": "code",
      "metadata": {
        "colab": {
          "base_uri": "https://localhost:8080/"
        },
        "id": "s1dFoeFhuzjt",
        "outputId": "77807c99-b778-44ad-e5e1-73a5874e328a"
      },
      "source": [
        "print(val_x.shape)\n",
        "print(val_y.shape)"
      ],
      "execution_count": 27,
      "outputs": [
        {
          "output_type": "stream",
          "text": [
            "(3047, 31, 1)\n",
            "(3047, 31, 1)\n"
          ],
          "name": "stdout"
        }
      ]
    },
    {
      "cell_type": "code",
      "metadata": {
        "id": "2Zt6VKybF7WK"
      },
      "source": [
        "def translate(sentence,mod,embedded):\n",
        "  '''\n",
        "  Function for translating given English sentence\n",
        "  to German using model predictions\n",
        "  '''\n",
        "  ans=\"\"\n",
        "  preproc_sent=process_text(sentence,True)\n",
        "  #print(preproc_sent)\n",
        "  model_inp=sent_to_np(preproc_sent,'eng',True)\n",
        "  if (embedded):\n",
        "    model_inp=np.squeeze(model_inp,axis=2)\n",
        "  #print(model_inp)\n",
        "  pred=mod.predict(model_inp)\n",
        "  #print(pred)\n",
        "  for i in pred[0]:\n",
        "    ind=np.argmax(i)\n",
        "    #print(ind)\n",
        "    #print(\"MAX:\",i[ind])\n",
        "    #print(i[24])\n",
        "    if(ger_i2w[ind]=='<SOS>' or ger_i2w[ind]=='<EOS>' or ger_i2w[ind]=='<PAD>'):\n",
        "        continue\n",
        "    ans+=ger_i2w[ind]\n",
        "    ans+=\" \"\n",
        "  return ans"
      ],
      "execution_count": 36,
      "outputs": []
    },
    {
      "cell_type": "code",
      "metadata": {
        "id": "u_cqENbVFpVI"
      },
      "source": [
        "#training starts here ----------------------------------------------------------"
      ],
      "execution_count": null,
      "outputs": []
    },
    {
      "cell_type": "code",
      "metadata": {
        "colab": {
          "base_uri": "https://localhost:8080/"
        },
        "id": "3jBADUl-Buhn",
        "outputId": "88885d6e-c090-40f8-c2be-6e1871a51b26"
      },
      "source": [
        "\n",
        "#Removing singleton axis  3rd axis\n",
        "#for embedding layer\n",
        "t_x=np.squeeze(train_x,axis=2)\n",
        "v_x=np.squeeze(val_x,axis=2)\n",
        "te_x=np.squeeze(test_x,axis=2)\n",
        "print(t_x.shape)\n",
        "print(v_x.shape)\n",
        "print(te_x.shape)"
      ],
      "execution_count": 28,
      "outputs": [
        {
          "output_type": "stream",
          "text": [
            "(10197, 31)\n",
            "(3047, 31)\n",
            "(1472, 31)\n"
          ],
          "name": "stdout"
        }
      ]
    },
    {
      "cell_type": "code",
      "metadata": {
        "id": "sEFKmQmibP_y"
      },
      "source": [
        "# def f1_score(y_true,y_pred):\n",
        "#   p=tf.keras.metrics.Precision()\n",
        "#   r=tf.keras.metrics.Recall()\n",
        "#   p.update_state(y_true,y_pred)\n",
        "#   r.update_state(y_true,y_pred)\n",
        "#   return (2*p.result()*r.result())/(p.result()+r.result());\n",
        "# def leaky_relu(x):\n",
        "#     return tf.nn.leaky_relu(x, alpha=0.3)\n",
        "\n",
        "\n",
        "def base_LSTM_model_HP_TUNING(hp):\n",
        "  '''\n",
        "  Simple LSTM model for hyperparameter tuning\n",
        "  '''\n",
        "  m1_lstm_units=hp.Int('units',min_value=32,max_value=128,step=32)\n",
        "  m1_lr=hp.Choice('learning_rate', values = [0.001,0.003,0.005,0.008,0.01,0.05]) \n",
        "  lstm=LSTM(m1_lstm_units,return_sequences=True,activation='tanh')  #LSTM layer with output being hiddent state at time t\n",
        "  layer_at_t=TimeDistributed(Dense(len(ger.vocab_list),activation='softmax')) #Dense layer acting on hidden output at each step to generate predictions\n",
        "  model=tf.keras.Sequential()\n",
        "  model.add(InputLayer(train_x.shape[1:]))\n",
        "  model.add(lstm)\n",
        "  model.add(layer_at_t)\n",
        "\n",
        "  model.compile(loss=sparse_categorical_crossentropy,optimizer=Adam(m1_lr),metrics=['accuracy'])\n",
        "  return model\n"
      ],
      "execution_count": null,
      "outputs": []
    },
    {
      "cell_type": "code",
      "metadata": {
        "id": "tQohAY2OPyV8"
      },
      "source": [
        "\n",
        "\n",
        "\n",
        "def embedding_LSTM_HP_TUNING(hp):\n",
        "  '''\n",
        "  LSTM model with embedding layer for hyperparameter tuning\n",
        "  '''\n",
        "  m2_lstm_units=hp.Int('units',min_value=32,max_value=128,step=32)\n",
        "  m2_lr=hp.Choice('learning_rate', values = [0.001,0.003,0.005,0.008,0.01,0.05,0.08])\n",
        "  embedding_col=hp.Int('output_dim',min_value=32,max_value=160,step=32)\n",
        "  lstm=LSTM(m2_lstm_units,return_sequences=True,activation='tanh')\n",
        "  print(t_x.shape[1])\n",
        "  embed=Embedding(len(ger.vocab_list),embedding_col,input_length=t_x.shape[1])\n",
        "  layer_at_t=TimeDistributed(Dense(len(ger.vocab_list),activation=\"softmax\"))\n",
        "  model=tf.keras.Sequential()\n",
        "  model.add(embed)\n",
        "  model.add(lstm)\n",
        "  model.add(layer_at_t)\n",
        "\n",
        "  model.compile(loss=sparse_categorical_crossentropy,optimizer=Adam(m2_lr),metrics=['accuracy'])\n",
        "  return model\n",
        "  "
      ],
      "execution_count": 43,
      "outputs": []
    },
    {
      "cell_type": "code",
      "metadata": {
        "id": "CxxlHHvjIAjf"
      },
      "source": [
        "class ClearTrainingOutput(tf.keras.callbacks.Callback):\n",
        "  def on_train_end(*args, **kwargs):\n",
        "    IPython.display.clear_output(wait = True)\n",
        "\n"
      ],
      "execution_count": 44,
      "outputs": []
    },
    {
      "cell_type": "code",
      "metadata": {
        "id": "l6eCU8-iy7Ii"
      },
      "source": [
        "#Hyperparameter tuning starts here\n",
        "#Hyperparameter tuning of base model\n",
        "tuner = kt.BayesianOptimization(base_LSTM_model_HP_TUNING,\n",
        "                     objective = 'val_accuracy', \n",
        "                     num_initial_points=50,\n",
        "                     max_trials=15,\n",
        "                     directory='./',\n",
        "                     project_name='base_LSTM')\n"
      ],
      "execution_count": null,
      "outputs": []
    },
    {
      "cell_type": "code",
      "metadata": {
        "id": "s_jHXV22JtT1",
        "colab": {
          "base_uri": "https://localhost:8080/"
        },
        "outputId": "9356eca9-f117-470e-e2a1-bc4c6b8ec9f0"
      },
      "source": [
        "tuner.search(train_x,train_y, epochs = 15, validation_data = (val_x, val_y), callbacks = [ClearTrainingOutput()])"
      ],
      "execution_count": null,
      "outputs": [
        {
          "output_type": "stream",
          "text": [
            "Trial 16 Complete [00h 02m 53s]\n",
            "val_accuracy: 0.7552497386932373\n",
            "\n",
            "Best val_accuracy So Far: 0.765637218952179\n",
            "Total elapsed time: 00h 47m 45s\n",
            "INFO:tensorflow:Oracle triggered exit\n"
          ],
          "name": "stdout"
        }
      ]
    },
    {
      "cell_type": "code",
      "metadata": {
        "id": "zRHXC9iqgFgA"
      },
      "source": [
        "best_hps1 = tuner.get_best_hyperparameters(num_trials = 1)[0]"
      ],
      "execution_count": null,
      "outputs": []
    },
    {
      "cell_type": "code",
      "metadata": {
        "colab": {
          "base_uri": "https://localhost:8080/"
        },
        "id": "QA7iXB2uieqC",
        "outputId": "c5b350f3-0052-4ec6-9b71-ee66e7fec116"
      },
      "source": [
        "best_hps1.get('units')"
      ],
      "execution_count": null,
      "outputs": [
        {
          "output_type": "execute_result",
          "data": {
            "text/plain": [
              "128"
            ]
          },
          "metadata": {
            "tags": []
          },
          "execution_count": 36
        }
      ]
    },
    {
      "cell_type": "code",
      "metadata": {
        "colab": {
          "base_uri": "https://localhost:8080/"
        },
        "id": "iaZPnvb3igA4",
        "outputId": "edf45185-7648-4e5f-e907-3f4a03fc7f3c"
      },
      "source": [
        "best_hps1.get('learning_rate')"
      ],
      "execution_count": null,
      "outputs": [
        {
          "output_type": "execute_result",
          "data": {
            "text/plain": [
              "0.001"
            ]
          },
          "metadata": {
            "tags": []
          },
          "execution_count": 37
        }
      ]
    },
    {
      "cell_type": "code",
      "metadata": {
        "colab": {
          "base_uri": "https://localhost:8080/"
        },
        "id": "bVv7aXRFioJy",
        "outputId": "7167fc26-6179-4060-cd70-c852a4882579"
      },
      "source": [
        "tuner2 = kt.BayesianOptimization(embedding_LSTM_HP_TUNING,\n",
        "                     objective = 'val_accuracy', \n",
        "                     num_initial_points=50,\n",
        "                     max_trials=30,\n",
        "                     directory='./',\n",
        "                     project_name='embedding')\n"
      ],
      "execution_count": null,
      "outputs": [
        {
          "output_type": "stream",
          "text": [
            "31\n"
          ],
          "name": "stdout"
        }
      ]
    },
    {
      "cell_type": "code",
      "metadata": {
        "colab": {
          "base_uri": "https://localhost:8080/"
        },
        "id": "351_XxE0wjvx",
        "outputId": "d721d465-7a63-4c7b-c307-5be934665b9f"
      },
      "source": [
        "tuner2.search(t_x,train_y, epochs = 30, validation_data = (v_x, val_y), callbacks = [ClearTrainingOutput()])\n"
      ],
      "execution_count": null,
      "outputs": [
        {
          "output_type": "stream",
          "text": [
            "Trial 30 Complete [00h 07m 08s]\n",
            "val_accuracy: 0.8056359887123108\n",
            "\n",
            "Best val_accuracy So Far: 0.8067874908447266\n",
            "Total elapsed time: 03h 46m 53s\n",
            "INFO:tensorflow:Oracle triggered exit\n"
          ],
          "name": "stdout"
        }
      ]
    },
    {
      "cell_type": "code",
      "metadata": {
        "id": "nuFGzxbtwkzH"
      },
      "source": [
        "best_hps2 = tuner2.get_best_hyperparameters(num_trials = 1)[0]"
      ],
      "execution_count": null,
      "outputs": []
    },
    {
      "cell_type": "code",
      "metadata": {
        "colab": {
          "base_uri": "https://localhost:8080/"
        },
        "id": "Q3PWz0b9wkwx",
        "outputId": "4e28e262-02b5-46d4-cbe7-b62db5543bda"
      },
      "source": [
        "best_hps2.get('units')"
      ],
      "execution_count": null,
      "outputs": [
        {
          "output_type": "execute_result",
          "data": {
            "text/plain": [
              "128"
            ]
          },
          "metadata": {
            "tags": []
          },
          "execution_count": 41
        }
      ]
    },
    {
      "cell_type": "code",
      "metadata": {
        "colab": {
          "base_uri": "https://localhost:8080/"
        },
        "id": "CdrijzI-wktw",
        "outputId": "27d76356-c513-49f8-f3d8-bae31c21bd26"
      },
      "source": [
        "best_hps2.get('learning_rate')"
      ],
      "execution_count": null,
      "outputs": [
        {
          "output_type": "execute_result",
          "data": {
            "text/plain": [
              "0.01"
            ]
          },
          "metadata": {
            "tags": []
          },
          "execution_count": 42
        }
      ]
    },
    {
      "cell_type": "code",
      "metadata": {
        "colab": {
          "base_uri": "https://localhost:8080/"
        },
        "id": "fAwDCBOOxPbb",
        "outputId": "c50c6b2d-9153-4c12-f565-8cabdc9f7c32"
      },
      "source": [
        "best_hps2.get('output_dim')"
      ],
      "execution_count": null,
      "outputs": [
        {
          "output_type": "execute_result",
          "data": {
            "text/plain": [
              "96"
            ]
          },
          "metadata": {
            "tags": []
          },
          "execution_count": 44
        }
      ]
    },
    {
      "cell_type": "code",
      "metadata": {
        "id": "zDRqYzYqv6uX"
      },
      "source": [
        "#Making base model using best hyperparameters\n",
        "def base_LSTM_model(m1_lstm_units,m1_lr):\n",
        "  '''\n",
        "  Simple LSTM model\n",
        "  '''\n",
        "  lstm=LSTM(m1_lstm_units,return_sequences=True,activation='tanh')  #LSTM layer with output being hiddent state at time t\n",
        "  layer_at_t=TimeDistributed(Dense(len(ger.vocab_list),activation='softmax')) #Dense layer acting on hidden output at each step to generate predictions\n",
        "  model=tf.keras.Sequential()\n",
        "  model.add(InputLayer(train_x.shape[1:]))\n",
        "  model.add(lstm)\n",
        "  model.add(layer_at_t)\n",
        "\n",
        "  model.compile(loss=sparse_categorical_crossentropy,optimizer=Adam(m1_lr),metrics=['accuracy'])\n",
        "  return model"
      ],
      "execution_count": 29,
      "outputs": []
    },
    {
      "cell_type": "code",
      "metadata": {
        "id": "uFvJdTxXw6It"
      },
      "source": [
        "#Making embedding model using hyperparameters\n",
        "def embedding_LSTM(m2_lstm_units,m2_lr,embedding_col):\n",
        "  '''\n",
        "  LSTM model with embedding layer\n",
        "  '''\n",
        "  lstm=LSTM(m2_lstm_units,return_sequences=True,activation='tanh')\n",
        "  print(t_x.shape[1])\n",
        "  embed=Embedding(len(ger.vocab_list),embedding_col,input_length=t_x.shape[1])\n",
        "  layer_at_t=TimeDistributed(Dense(len(ger.vocab_list),activation=\"softmax\"))\n",
        "  model=tf.keras.Sequential()\n",
        "  model.add(embed)\n",
        "  model.add(lstm)\n",
        "  model.add(layer_at_t)\n",
        "\n",
        "  model.compile(loss=sparse_categorical_crossentropy,optimizer=Adam(m2_lr),metrics=['accuracy'])\n",
        "  return model"
      ],
      "execution_count": 30,
      "outputs": []
    },
    {
      "cell_type": "code",
      "metadata": {
        "id": "fWOrrfsRNOcT",
        "colab": {
          "base_uri": "https://localhost:8080/"
        },
        "outputId": "064ef5c0-0bbc-4bc2-9176-087a567d42e4"
      },
      "source": [
        "base_model=base_LSTM_model(best_hps1.get('units'),best_hps1.get('learning_rate'))\n",
        "base_model.summary()"
      ],
      "execution_count": null,
      "outputs": [
        {
          "output_type": "stream",
          "text": [
            "Model: \"sequential_1\"\n",
            "_________________________________________________________________\n",
            "Layer (type)                 Output Shape              Param #   \n",
            "=================================================================\n",
            "lstm_1 (LSTM)                (None, 31, 128)           66560     \n",
            "_________________________________________________________________\n",
            "time_distributed_1 (TimeDist (None, 31, 10464)         1349856   \n",
            "=================================================================\n",
            "Total params: 1,416,416\n",
            "Trainable params: 1,416,416\n",
            "Non-trainable params: 0\n",
            "_________________________________________________________________\n"
          ],
          "name": "stdout"
        }
      ]
    },
    {
      "cell_type": "code",
      "metadata": {
        "colab": {
          "base_uri": "https://localhost:8080/"
        },
        "id": "Bzsf600cPN9w",
        "outputId": "2f3626e8-89c3-481f-bca5-a1ae991120e9"
      },
      "source": [
        "#training the base model\n",
        "\n",
        "base_model.fit(train_x,train_y,m1_batch_size,m1_epochs,validation_data=(val_x,val_y))\n",
        "#base_model.save(\"Less_trained_base.h5\")"
      ],
      "execution_count": null,
      "outputs": [
        {
          "output_type": "stream",
          "text": [
            "Epoch 1/25\n",
            "106/106 [==============================] - 8s 69ms/step - loss: 5.8066 - accuracy: 0.6356 - val_loss: 1.9201 - val_accuracy: 0.7372\n",
            "Epoch 2/25\n",
            "106/106 [==============================] - 7s 65ms/step - loss: 1.8705 - accuracy: 0.7453 - val_loss: 1.8546 - val_accuracy: 0.7464\n",
            "Epoch 3/25\n",
            "106/106 [==============================] - 7s 66ms/step - loss: 1.8101 - accuracy: 0.7479 - val_loss: 1.7521 - val_accuracy: 0.7449\n",
            "Epoch 4/25\n",
            "106/106 [==============================] - 7s 65ms/step - loss: 1.6714 - accuracy: 0.7497 - val_loss: 1.5917 - val_accuracy: 0.7490\n",
            "Epoch 5/25\n",
            "106/106 [==============================] - 7s 66ms/step - loss: 1.5449 - accuracy: 0.7511 - val_loss: 1.5704 - val_accuracy: 0.7495\n",
            "Epoch 6/25\n",
            "106/106 [==============================] - 7s 66ms/step - loss: 1.5332 - accuracy: 0.7501 - val_loss: 1.5638 - val_accuracy: 0.7492\n",
            "Epoch 7/25\n",
            "106/106 [==============================] - 7s 66ms/step - loss: 1.5077 - accuracy: 0.7528 - val_loss: 1.5578 - val_accuracy: 0.7523\n",
            "Epoch 8/25\n",
            "106/106 [==============================] - 7s 66ms/step - loss: 1.5034 - accuracy: 0.7546 - val_loss: 1.5531 - val_accuracy: 0.7532\n",
            "Epoch 9/25\n",
            "106/106 [==============================] - 7s 66ms/step - loss: 1.4973 - accuracy: 0.7554 - val_loss: 1.5495 - val_accuracy: 0.7547\n",
            "Epoch 10/25\n",
            "106/106 [==============================] - 7s 66ms/step - loss: 1.4910 - accuracy: 0.7566 - val_loss: 1.5441 - val_accuracy: 0.7548\n",
            "Epoch 11/25\n",
            "106/106 [==============================] - 7s 66ms/step - loss: 1.4953 - accuracy: 0.7557 - val_loss: 1.5406 - val_accuracy: 0.7550\n",
            "Epoch 12/25\n",
            "106/106 [==============================] - 7s 66ms/step - loss: 1.4791 - accuracy: 0.7569 - val_loss: 1.5366 - val_accuracy: 0.7623\n",
            "Epoch 13/25\n",
            "106/106 [==============================] - 7s 66ms/step - loss: 1.4660 - accuracy: 0.7602 - val_loss: 1.5322 - val_accuracy: 0.7620\n",
            "Epoch 14/25\n",
            "106/106 [==============================] - 7s 66ms/step - loss: 1.4644 - accuracy: 0.7625 - val_loss: 1.5296 - val_accuracy: 0.7631\n",
            "Epoch 15/25\n",
            "106/106 [==============================] - 7s 66ms/step - loss: 1.4543 - accuracy: 0.7648 - val_loss: 1.5234 - val_accuracy: 0.7632\n",
            "Epoch 16/25\n",
            "106/106 [==============================] - 7s 67ms/step - loss: 1.4492 - accuracy: 0.7652 - val_loss: 1.5202 - val_accuracy: 0.7641\n",
            "Epoch 17/25\n",
            "106/106 [==============================] - 7s 67ms/step - loss: 1.4503 - accuracy: 0.7650 - val_loss: 1.5182 - val_accuracy: 0.7649\n",
            "Epoch 18/25\n",
            "106/106 [==============================] - 7s 66ms/step - loss: 1.4320 - accuracy: 0.7669 - val_loss: 1.5144 - val_accuracy: 0.7649\n",
            "Epoch 19/25\n",
            "106/106 [==============================] - 7s 66ms/step - loss: 1.4355 - accuracy: 0.7662 - val_loss: 1.5114 - val_accuracy: 0.7650\n",
            "Epoch 20/25\n",
            "106/106 [==============================] - 7s 66ms/step - loss: 1.4214 - accuracy: 0.7673 - val_loss: 1.5095 - val_accuracy: 0.7649\n",
            "Epoch 21/25\n",
            "106/106 [==============================] - 7s 66ms/step - loss: 1.4193 - accuracy: 0.7674 - val_loss: 1.5062 - val_accuracy: 0.7658\n",
            "Epoch 22/25\n",
            "106/106 [==============================] - 7s 66ms/step - loss: 1.4095 - accuracy: 0.7679 - val_loss: 1.5065 - val_accuracy: 0.7655\n",
            "Epoch 23/25\n",
            "106/106 [==============================] - 7s 67ms/step - loss: 1.4053 - accuracy: 0.7685 - val_loss: 1.5053 - val_accuracy: 0.7658\n",
            "Epoch 24/25\n",
            "106/106 [==============================] - 7s 67ms/step - loss: 1.4072 - accuracy: 0.7676 - val_loss: 1.5047 - val_accuracy: 0.7654\n",
            "Epoch 25/25\n",
            "106/106 [==============================] - 7s 67ms/step - loss: 1.3973 - accuracy: 0.7682 - val_loss: 1.5044 - val_accuracy: 0.7655\n"
          ],
          "name": "stdout"
        },
        {
          "output_type": "execute_result",
          "data": {
            "text/plain": [
              "<tensorflow.python.keras.callbacks.History at 0x7f9205ff9da0>"
            ]
          },
          "metadata": {
            "tags": []
          },
          "execution_count": 48
        }
      ]
    },
    {
      "cell_type": "code",
      "metadata": {
        "id": "S9vjPm2GCYKh"
      },
      "source": [
        "# base_model=tf.keras.models.load_model(\"drive/MyDrive/model/Less_trained_base.h5\")\n",
        "# base_model.summary()"
      ],
      "execution_count": null,
      "outputs": []
    },
    {
      "cell_type": "code",
      "metadata": {
        "colab": {
          "base_uri": "https://localhost:8080/"
        },
        "id": "9nDxB8O0Dr33",
        "outputId": "d30aa4ae-d262-45df-9e76-a94a667298b6"
      },
      "source": [
        "#Evaluating LSTM model on unseen data\n",
        "\n",
        "l,acc=base_model.evaluate(test_x,test_y)\n",
        "print(\"Base model loss for testing set:{}\".format(l))\n",
        "print(\"Base model accuracy for testing set:{}\".format(acc))\n"
      ],
      "execution_count": null,
      "outputs": [
        {
          "output_type": "stream",
          "text": [
            "61/61 [==============================] - 1s 18ms/step - loss: 1.5160 - accuracy: 0.7668\n",
            "Base model loss for testing set:1.5159815549850464\n",
            "Base model accuracy for testing set:0.7668282985687256\n"
          ],
          "name": "stdout"
        }
      ]
    },
    {
      "cell_type": "code",
      "metadata": {
        "id": "-V7nQnNrM6ck",
        "colab": {
          "base_uri": "https://localhost:8080/",
          "height": 35
        },
        "outputId": "1204b830-94db-4a3c-abde-df5697258cf7"
      },
      "source": [
        "#Sample translation by base LSTM model\n",
        "translate(\"I am sad\",base_model,False)"
      ],
      "execution_count": null,
      "outputs": [
        {
          "output_type": "execute_result",
          "data": {
            "application/vnd.google.colaboratory.intrinsic+json": {
              "type": "string"
            },
            "text/plain": [
              "'<SOS> ich und maria . <EOS> <PAD> <PAD> <PAD> <PAD> <PAD> <PAD> <PAD> <PAD> <PAD> <PAD> <PAD> <PAD> <PAD> <PAD> <PAD> <PAD> <PAD> <PAD> <PAD> <PAD> <PAD> <PAD> <PAD> <PAD> <PAD> '"
            ]
          },
          "metadata": {
            "tags": []
          },
          "execution_count": 51
        }
      ]
    },
    {
      "cell_type": "code",
      "metadata": {
        "colab": {
          "base_uri": "https://localhost:8080/"
        },
        "id": "eB5CvJLV5LzC",
        "outputId": "fa3114aa-54ea-45a2-ff69-fb26428f66c6"
      },
      "source": [
        "embeded_model=embedding_LSTM(best_hps2.get('units'),best_hps2.get('learning_rate'),best_hps2.get('output_dim'))\n",
        "embeded_model.summary()"
      ],
      "execution_count": null,
      "outputs": [
        {
          "output_type": "stream",
          "text": [
            "31\n",
            "Model: \"sequential_3\"\n",
            "_________________________________________________________________\n",
            "Layer (type)                 Output Shape              Param #   \n",
            "=================================================================\n",
            "embedding_2 (Embedding)      (None, 31, 96)            1004544   \n",
            "_________________________________________________________________\n",
            "lstm_3 (LSTM)                (None, 31, 128)           115200    \n",
            "_________________________________________________________________\n",
            "time_distributed_3 (TimeDist (None, 31, 10464)         1349856   \n",
            "=================================================================\n",
            "Total params: 2,469,600\n",
            "Trainable params: 2,469,600\n",
            "Non-trainable params: 0\n",
            "_________________________________________________________________\n"
          ],
          "name": "stdout"
        }
      ]
    },
    {
      "cell_type": "code",
      "metadata": {
        "colab": {
          "base_uri": "https://localhost:8080/"
        },
        "id": "oUWKsmwb5bZB",
        "outputId": "437487b4-5ba6-4b05-aef9-6709b944a848"
      },
      "source": [
        "#training embedding model\n",
        "embeded_model.fit(t_x,train_y,batch_size=m2_batch_size,epochs=15,validation_data=(v_x,val_y))"
      ],
      "execution_count": null,
      "outputs": [
        {
          "output_type": "stream",
          "text": [
            "Epoch 1/15\n",
            "106/106 [==============================] - 10s 79ms/step - loss: 3.4675 - accuracy: 0.6852 - val_loss: 1.7224 - val_accuracy: 0.7650\n",
            "Epoch 2/15\n",
            "106/106 [==============================] - 8s 75ms/step - loss: 1.6299 - accuracy: 0.7704 - val_loss: 1.4325 - val_accuracy: 0.7758\n",
            "Epoch 3/15\n",
            "106/106 [==============================] - 8s 75ms/step - loss: 1.3367 - accuracy: 0.7851 - val_loss: 1.3438 - val_accuracy: 0.7895\n",
            "Epoch 4/15\n",
            "106/106 [==============================] - 8s 75ms/step - loss: 1.2197 - accuracy: 0.7976 - val_loss: 1.3081 - val_accuracy: 0.7939\n",
            "Epoch 5/15\n",
            "106/106 [==============================] - 8s 76ms/step - loss: 1.1024 - accuracy: 0.8090 - val_loss: 1.2848 - val_accuracy: 0.7987\n",
            "Epoch 6/15\n",
            "106/106 [==============================] - 8s 77ms/step - loss: 1.0089 - accuracy: 0.8162 - val_loss: 1.2728 - val_accuracy: 0.8010\n",
            "Epoch 7/15\n",
            "106/106 [==============================] - 8s 76ms/step - loss: 0.9093 - accuracy: 0.8264 - val_loss: 1.2701 - val_accuracy: 0.8009\n",
            "Epoch 8/15\n",
            "106/106 [==============================] - 8s 76ms/step - loss: 0.8167 - accuracy: 0.8373 - val_loss: 1.2741 - val_accuracy: 0.8031\n",
            "Epoch 9/15\n",
            "106/106 [==============================] - 8s 75ms/step - loss: 0.7485 - accuracy: 0.8462 - val_loss: 1.2852 - val_accuracy: 0.8050\n",
            "Epoch 10/15\n",
            "106/106 [==============================] - 8s 76ms/step - loss: 0.6935 - accuracy: 0.8545 - val_loss: 1.2938 - val_accuracy: 0.8046\n",
            "Epoch 11/15\n",
            "106/106 [==============================] - 8s 76ms/step - loss: 0.6290 - accuracy: 0.8650 - val_loss: 1.3073 - val_accuracy: 0.8056\n",
            "Epoch 12/15\n",
            "106/106 [==============================] - 8s 76ms/step - loss: 0.5912 - accuracy: 0.8714 - val_loss: 1.3244 - val_accuracy: 0.8029\n",
            "Epoch 13/15\n",
            "106/106 [==============================] - 8s 76ms/step - loss: 0.5550 - accuracy: 0.8781 - val_loss: 1.3346 - val_accuracy: 0.8029\n",
            "Epoch 14/15\n",
            "106/106 [==============================] - 8s 76ms/step - loss: 0.5217 - accuracy: 0.8836 - val_loss: 1.3612 - val_accuracy: 0.8016\n",
            "Epoch 15/15\n",
            "106/106 [==============================] - 8s 76ms/step - loss: 0.4985 - accuracy: 0.8881 - val_loss: 1.3750 - val_accuracy: 0.8023\n"
          ],
          "name": "stdout"
        },
        {
          "output_type": "execute_result",
          "data": {
            "text/plain": [
              "<tensorflow.python.keras.callbacks.History at 0x7f9207ee4860>"
            ]
          },
          "metadata": {
            "tags": []
          },
          "execution_count": 61
        }
      ]
    },
    {
      "cell_type": "code",
      "metadata": {
        "colab": {
          "base_uri": "https://localhost:8080/"
        },
        "id": "UjapHrel-XV3",
        "outputId": "9e36216d-a91a-491c-bbc7-d004c72854f0"
      },
      "source": [
        "embeded_model=tf.keras.models.load_model(\"drive/MyDrive/embedded_15000.h5\")\n",
        "l,acc=embeded_model.evaluate(te_x,test_y)\n",
        "print(\"Embedded model loss for testing set:{}\".format(l))\n",
        "print(\"Embedded model accuracy for testing set:{}\".format(acc))\n"
      ],
      "execution_count": 31,
      "outputs": [
        {
          "output_type": "stream",
          "text": [
            "WARNING:tensorflow:From /tensorflow-1.15.2/python3.6/tensorflow_core/python/keras/initializers.py:119: calling RandomUniform.__init__ (from tensorflow.python.ops.init_ops) with dtype is deprecated and will be removed in a future version.\n",
            "Instructions for updating:\n",
            "Call initializer instance with the dtype argument instead of passing it to the constructor\n",
            "WARNING:tensorflow:From /tensorflow-1.15.2/python3.6/tensorflow_core/python/ops/resource_variable_ops.py:1630: calling BaseResourceVariable.__init__ (from tensorflow.python.ops.resource_variable_ops) with constraint is deprecated and will be removed in a future version.\n",
            "Instructions for updating:\n",
            "If using Keras pass *_constraint arguments to layers.\n",
            "WARNING:tensorflow:From /tensorflow-1.15.2/python3.6/tensorflow_core/python/ops/init_ops.py:97: calling GlorotUniform.__init__ (from tensorflow.python.ops.init_ops) with dtype is deprecated and will be removed in a future version.\n",
            "Instructions for updating:\n",
            "Call initializer instance with the dtype argument instead of passing it to the constructor\n",
            "WARNING:tensorflow:From /tensorflow-1.15.2/python3.6/tensorflow_core/python/ops/init_ops.py:97: calling Orthogonal.__init__ (from tensorflow.python.ops.init_ops) with dtype is deprecated and will be removed in a future version.\n",
            "Instructions for updating:\n",
            "Call initializer instance with the dtype argument instead of passing it to the constructor\n",
            "WARNING:tensorflow:From /tensorflow-1.15.2/python3.6/tensorflow_core/python/ops/init_ops.py:97: calling Zeros.__init__ (from tensorflow.python.ops.init_ops) with dtype is deprecated and will be removed in a future version.\n",
            "Instructions for updating:\n",
            "Call initializer instance with the dtype argument instead of passing it to the constructor\n",
            "WARNING:tensorflow:From /tensorflow-1.15.2/python3.6/tensorflow_core/python/ops/math_grad.py:1424: where (from tensorflow.python.ops.array_ops) is deprecated and will be removed in a future version.\n",
            "Instructions for updating:\n",
            "Use tf.where in 2.0, which has the same broadcast rule as np.where\n",
            "1472/1472 [==============================] - 2s 1ms/sample - loss: 0.8028 - acc: 0.8684\n",
            "Embedded model loss for testing set:0.8028346928565399\n",
            "Embedded model accuracy for testing set:0.8683818578720093\n"
          ],
          "name": "stdout"
        }
      ]
    },
    {
      "cell_type": "code",
      "metadata": {
        "id": "jS2mEhvO-0kE",
        "colab": {
          "base_uri": "https://localhost:8080/",
          "height": 35
        },
        "outputId": "ecf492fe-79f9-4dc5-f23d-9972461cc5bf"
      },
      "source": [
        "translate(\"i am very sad \",embeded_model,True)"
      ],
      "execution_count": 37,
      "outputs": [
        {
          "output_type": "execute_result",
          "data": {
            "application/vnd.google.colaboratory.intrinsic+json": {
              "type": "string"
            },
            "text/plain": [
              "'ich bin sehr glucklich . '"
            ]
          },
          "metadata": {
            "tags": []
          },
          "execution_count": 37
        }
      ]
    },
    {
      "cell_type": "code",
      "metadata": {
        "id": "GtRyMtkgul-z"
      },
      "source": [
        ""
      ],
      "execution_count": null,
      "outputs": []
    }
  ]
}
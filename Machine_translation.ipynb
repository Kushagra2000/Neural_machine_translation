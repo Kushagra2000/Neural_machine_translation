{
  "nbformat": 4,
  "nbformat_minor": 0,
  "metadata": {
    "colab": {
      "name": "Machine_translation.ipynb",
      "provenance": [],
      "authorship_tag": "ABX9TyO1Eiyss2gYBaf4G/vuLANv",
      "include_colab_link": true
    },
    "kernelspec": {
      "name": "python3",
      "display_name": "Python 3"
    }
  },
  "cells": [
    {
      "cell_type": "markdown",
      "metadata": {
        "id": "view-in-github",
        "colab_type": "text"
      },
      "source": [
        "<a href=\"https://colab.research.google.com/github/Kushagra2000/Neural_machine_translation/blob/main/Machine_translation.ipynb\" target=\"_parent\"><img src=\"https://colab.research.google.com/assets/colab-badge.svg\" alt=\"Open In Colab\"/></a>"
      ]
    },
    {
      "cell_type": "code",
      "metadata": {
        "colab": {
          "base_uri": "https://localhost:8080/"
        },
        "id": "a_wTnIFR8vNu",
        "outputId": "71df2295-0506-4c76-be31-ed151aace5db"
      },
      "source": [
        "#imports\n",
        "%tensorflow_version 1.x\n",
        "import tensorflow as tf\n",
        "print(tf.__version__)\n",
        "import pandas as pd\n",
        "import numpy as np"
      ],
      "execution_count": null,
      "outputs": [
        {
          "output_type": "stream",
          "text": [
            "1.15.2\n"
          ],
          "name": "stdout"
        }
      ]
    },
    {
      "cell_type": "code",
      "metadata": {
        "colab": {
          "base_uri": "https://localhost:8080/"
        },
        "id": "5eacpqiV9DTc",
        "outputId": "53305314-e4e3-44f7-aa9a-e44615a5df40"
      },
      "source": [
        "!ls "
      ],
      "execution_count": null,
      "outputs": [
        {
          "output_type": "stream",
          "text": [
            "deu.txt  sample_data\n"
          ],
          "name": "stdout"
        }
      ]
    },
    {
      "cell_type": "code",
      "metadata": {
        "id": "Pjnci4B5Aywh"
      },
      "source": [
        "#reading lines from thge txt file\n",
        "with open('Data/deu.txt','r') as f:\n",
        "  lines=(f.readlines())"
      ],
      "execution_count": null,
      "outputs": []
    },
    {
      "cell_type": "code",
      "metadata": {
        "id": "WSnn6gGCBEy5"
      },
      "source": [
        "#removing the unnecessary data and obtaining sentence pairs \n",
        "def process_text(lines):\n",
        "  ''' \n",
        "  Takes a list of tab seperated\n",
        "  English and German sentences as input \n",
        "  and returns list of \n",
        "  English and German sentence pairs\n",
        "  '''\n",
        "  proc_lines=[]\n",
        "  for line in lines:\n",
        "    line=line.strip() #to remove newlines at the end of a sentence\n",
        "    line=line.split(\"\\t\")\n",
        "    proc_lines.append(line[:-1])  #remove contributing information\n",
        "  return proc_lines"
      ],
      "execution_count": null,
      "outputs": []
    },
    {
      "cell_type": "code",
      "metadata": {
        "colab": {
          "base_uri": "https://localhost:8080/"
        },
        "id": "vWgVr4xOBK33",
        "outputId": "0c96ac7f-40a5-426d-efc1-66a9719b2866"
      },
      "source": [
        "proc_lines=process_text(lines)\n",
        "proc_lines[:10]"
      ],
      "execution_count": null,
      "outputs": [
        {
          "output_type": "execute_result",
          "data": {
            "text/plain": [
              "[['Go.', 'Geh.'],\n",
              " ['Hi.', 'Hallo!'],\n",
              " ['Hi.', 'Grüß Gott!'],\n",
              " ['Run!', 'Lauf!'],\n",
              " ['Run.', 'Lauf!'],\n",
              " ['Wow!', 'Potzdonner!'],\n",
              " ['Wow!', 'Donnerwetter!'],\n",
              " ['Fire!', 'Feuer!'],\n",
              " ['Help!', 'Hilfe!'],\n",
              " ['Help!', 'Zu Hülf!']]"
            ]
          },
          "metadata": {
            "tags": []
          },
          "execution_count": 30
        }
      ]
    },
    {
      "cell_type": "code",
      "metadata": {
        "id": "zctawZ8xGF_R"
      },
      "source": [
        ""
      ],
      "execution_count": null,
      "outputs": []
    }
  ]
}